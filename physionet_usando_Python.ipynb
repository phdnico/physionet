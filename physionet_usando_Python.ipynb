{
  "nbformat": 4,
  "nbformat_minor": 0,
  "metadata": {
    "kernelspec": {
      "display_name": "Python 2",
      "language": "python",
      "name": "python2"
    },
    "language_info": {
      "codemirror_mode": {
        "name": "ipython",
        "version": 2
      },
      "file_extension": ".py",
      "mimetype": "text/x-python",
      "name": "python",
      "nbconvert_exporter": "python",
      "pygments_lexer": "ipython2",
      "version": "2.7.13"
    },
    "colab": {
      "name": "physionet_usando_Python.ipynb",
      "provenance": [],
      "collapsed_sections": [],
      "include_colab_link": true
    }
  },
  "cells": [
    {
      "cell_type": "markdown",
      "metadata": {
        "id": "view-in-github",
        "colab_type": "text"
      },
      "source": [
        "<a href=\"https://colab.research.google.com/github/phdnico/physionet/blob/master/physionet_usando_Python.ipynb\" target=\"_parent\"><img src=\"https://colab.research.google.com/assets/colab-badge.svg\" alt=\"Open In Colab\"/></a>"
      ]
    },
    {
      "cell_type": "markdown",
      "metadata": {
        "id": "3B0dXEpB6gK0",
        "colab_type": "text"
      },
      "source": [
        "esto lo realice en 2017/2018 con Python 2.X\n",
        "(ver ambientes virtuales)\n",
        "\n",
        "te cuento que los datos del ATM los baje con \n",
        "https://github.com/MIT-LCP/wfdb-python  \n",
        "para tener un ambiente empaquetado y que te funcione te recomiendo \n",
        "https://www.anaconda.com/distribution/ \n",
        "lo que no recuerdo ó habría que probrar es si funciona  wfdb-python  con 2.7 o con que versión.\n",
        "\n",
        "![img](https://user-images.githubusercontent.com/50641494/85225408-5aa69b80-b3a7-11ea-8c22-da5a030da871.PNG)\n",
        "\n",
        "[Physionet](https://physionet.org/)\n",
        "\n",
        "### COLLABORATIVE INSTITUTIONAL TRAINING INITIATIVE (CITI PROGRAM)\n",
        "[citiprogram](https://www.citiprogram.org/verify/?k8e6410f7-6dbc-41d8-ae12-9b29f7b6372f-24580999)"
      ]
    },
    {
      "cell_type": "markdown",
      "metadata": {
        "id": "dJggSK9C6IsS",
        "colab_type": "text"
      },
      "source": [
        "# Cargamos las librerias"
      ]
    },
    {
      "cell_type": "code",
      "metadata": {
        "id": "9jvjR0Ie6IsT",
        "colab_type": "code",
        "colab": {
          "base_uri": "https://localhost:8080/",
          "height": 375
        },
        "outputId": "15823c74-3344-4c4a-8c12-7021768557fd"
      },
      "source": [
        "import wfdb\n",
        "import numpy as np\n",
        "import os\n",
        "from IPython.display import display\n",
        "import matplotlib.pyplot as plt\n",
        "import pandas as  pd"
      ],
      "execution_count": 1,
      "outputs": [
        {
          "output_type": "error",
          "ename": "ImportError",
          "evalue": "ignored",
          "traceback": [
            "\u001b[0;31m\u001b[0m",
            "\u001b[0;31mImportError\u001b[0mTraceback (most recent call last)",
            "\u001b[0;32m<ipython-input-1-d2ce0f14a1d2>\u001b[0m in \u001b[0;36m<module>\u001b[0;34m()\u001b[0m\n\u001b[0;32m----> 1\u001b[0;31m \u001b[0;32mimport\u001b[0m \u001b[0mwfdb\u001b[0m\u001b[0;34m\u001b[0m\u001b[0m\n\u001b[0m\u001b[1;32m      2\u001b[0m \u001b[0;32mimport\u001b[0m \u001b[0mnumpy\u001b[0m \u001b[0;32mas\u001b[0m \u001b[0mnp\u001b[0m\u001b[0;34m\u001b[0m\u001b[0m\n\u001b[1;32m      3\u001b[0m \u001b[0;32mimport\u001b[0m \u001b[0mos\u001b[0m\u001b[0;34m\u001b[0m\u001b[0m\n\u001b[1;32m      4\u001b[0m \u001b[0;32mfrom\u001b[0m \u001b[0mIPython\u001b[0m\u001b[0;34m.\u001b[0m\u001b[0mdisplay\u001b[0m \u001b[0;32mimport\u001b[0m \u001b[0mdisplay\u001b[0m\u001b[0;34m\u001b[0m\u001b[0m\n\u001b[1;32m      5\u001b[0m \u001b[0;32mimport\u001b[0m \u001b[0mmatplotlib\u001b[0m\u001b[0;34m.\u001b[0m\u001b[0mpyplot\u001b[0m \u001b[0;32mas\u001b[0m \u001b[0mplt\u001b[0m\u001b[0;34m\u001b[0m\u001b[0m\n",
            "\u001b[0;31mImportError\u001b[0m: No module named wfdb",
            "",
            "\u001b[0;31m---------------------------------------------------------------------------\u001b[0;32m\nNOTE: If your import is failing due to a missing package, you can\nmanually install dependencies using either !pip or !apt.\n\nTo view examples of installing some common dependencies, click the\n\"Open Examples\" button below.\n\u001b[0;31m---------------------------------------------------------------------------\u001b[0m\n"
          ]
        }
      ]
    },
    {
      "cell_type": "code",
      "metadata": {
        "id": "6BUxKseS6IsX",
        "colab_type": "code",
        "colab": {}
      },
      "source": [
        "\n",
        "def bajarDatos(nombrePaciente,urlBaseDeDatos='sampledata/',cantidadDeMuestras = ''):\n",
        "    \n",
        "    pathUrl = urlBaseDeDatos+nombrePaciente\n",
        "    #record = wfdb.rdsamp(pathUrl, sampto=2000)\n",
        "    if cantidadDeMuestras =='':\n",
        "        record = wfdb.rdsamp(nombrePaciente, pbdir = urlBaseDeDatos)\n",
        "        # Esto lo dejo ahora asi por que no tengo ancho de banda y son demasiados datos\n",
        "        #record = wfdb.rdsamp(nombrePaciente, pbdir = urlBaseDeDatos,sampto=200)\n",
        "    else:\n",
        "        record = wfdb.rdsamp(nombrePaciente, pbdir = urlBaseDeDatos,sampto=cantidadDeMuestras)\n",
        "    #wfdb.plotrec(record, title='Record: '+nombrePaciente+'from Physionet '+urlBaseDeDatos) \n",
        "    #display(record.__dict__)\n",
        "    cantidadDeColumnas = len(record.signame[:])\n",
        "    seniales = np.ndarray.flatten(record.p_signals)\n",
        "    tamanioCorte = len(seniales)/cantidadDeColumnas\n",
        "    \n",
        "    print(\"longitud de la suma de señales: \"+str(len(seniales)))\n",
        "    print(\"cantidad de columnas: \"+str(cantidadDeColumnas))\n",
        "    print(\"longitud de cada columna: \"+str(tamanioCorte))\n",
        "    print(\"variables: \"+str(record.signame))\n",
        "    reFactorizacion = seniales.reshape(tamanioCorte,cantidadDeColumnas)\n",
        "    df = pd.DataFrame(reFactorizacion, columns =record.signame)\n",
        "    df.to_csv(nombrePaciente+'.csv')\n",
        "    \n",
        "    "
      ],
      "execution_count": null,
      "outputs": []
    },
    {
      "cell_type": "code",
      "metadata": {
        "id": "q7GOf1Gz6Isa",
        "colab_type": "code",
        "colab": {},
        "outputId": "d58f3242-6860-40fe-db94-63d4637fab0d"
      },
      "source": [
        "bajarDatos('a103l','challenge/2015/training/',10)"
      ],
      "execution_count": null,
      "outputs": [
        {
          "output_type": "stream",
          "text": [
            "longitud de la suma de señales: 30\n",
            "cantidad de columnas: 3\n",
            "longitud de cada columna: 10\n",
            "variables: ['II', 'V', 'PLETH']\n"
          ],
          "name": "stdout"
        }
      ]
    },
    {
      "cell_type": "code",
      "metadata": {
        "id": "tNPN4j7Q6Ise",
        "colab_type": "code",
        "colab": {}
      },
      "source": [
        "prueba = pd.read_csv('a103l.csv')"
      ],
      "execution_count": null,
      "outputs": []
    },
    {
      "cell_type": "code",
      "metadata": {
        "id": "0ZLC9gDU6Ish",
        "colab_type": "code",
        "colab": {},
        "outputId": "95140aec-b0eb-4136-ed7a-35bbd6120d40"
      },
      "source": [
        "prueba.head()"
      ],
      "execution_count": null,
      "outputs": [
        {
          "output_type": "execute_result",
          "data": {
            "text/html": [
              "<div>\n",
              "<style>\n",
              "    .dataframe thead tr:only-child th {\n",
              "        text-align: right;\n",
              "    }\n",
              "\n",
              "    .dataframe thead th {\n",
              "        text-align: left;\n",
              "    }\n",
              "\n",
              "    .dataframe tbody tr th {\n",
              "        vertical-align: top;\n",
              "    }\n",
              "</style>\n",
              "<table border=\"1\" class=\"dataframe\">\n",
              "  <thead>\n",
              "    <tr style=\"text-align: right;\">\n",
              "      <th></th>\n",
              "      <th>Unnamed: 0</th>\n",
              "      <th>II</th>\n",
              "      <th>V</th>\n",
              "      <th>PLETH</th>\n",
              "    </tr>\n",
              "  </thead>\n",
              "  <tbody>\n",
              "    <tr>\n",
              "      <th>0</th>\n",
              "      <td>0</td>\n",
              "      <td>-0.023596</td>\n",
              "      <td>0.867586</td>\n",
              "      <td>0.482203</td>\n",
              "    </tr>\n",
              "    <tr>\n",
              "      <th>1</th>\n",
              "      <td>1</td>\n",
              "      <td>-0.036981</td>\n",
              "      <td>0.982985</td>\n",
              "      <td>0.544374</td>\n",
              "    </tr>\n",
              "    <tr>\n",
              "      <th>2</th>\n",
              "      <td>2</td>\n",
              "      <td>-0.062923</td>\n",
              "      <td>0.859791</td>\n",
              "      <td>0.478212</td>\n",
              "    </tr>\n",
              "    <tr>\n",
              "      <th>3</th>\n",
              "      <td>3</td>\n",
              "      <td>-0.092452</td>\n",
              "      <td>0.788783</td>\n",
              "      <td>0.442857</td>\n",
              "    </tr>\n",
              "    <tr>\n",
              "      <th>4</th>\n",
              "      <td>4</td>\n",
              "      <td>-0.094522</td>\n",
              "      <td>0.851996</td>\n",
              "      <td>0.474302</td>\n",
              "    </tr>\n",
              "  </tbody>\n",
              "</table>\n",
              "</div>"
            ],
            "text/plain": [
              "   Unnamed: 0        II         V     PLETH\n",
              "0           0 -0.023596  0.867586  0.482203\n",
              "1           1 -0.036981  0.982985  0.544374\n",
              "2           2 -0.062923  0.859791  0.478212\n",
              "3           3 -0.092452  0.788783  0.442857\n",
              "4           4 -0.094522  0.851996  0.474302"
            ]
          },
          "metadata": {
            "tags": []
          },
          "execution_count": 104
        }
      ]
    },
    {
      "cell_type": "code",
      "metadata": {
        "id": "qf5a39kM6Isk",
        "colab_type": "code",
        "colab": {},
        "outputId": "7ed3b76d-dec7-46aa-b273-d8d7f86ffabb"
      },
      "source": [
        "bajarDatos('charis1','charisdb/',100)"
      ],
      "execution_count": null,
      "outputs": [
        {
          "output_type": "stream",
          "text": [
            "longitud de la suma de señales: 300\n",
            "cantidad de columnas: 3\n",
            "longitud de cada columna: 100\n",
            "variables: ['ABP', 'ECG', 'ICP']\n"
          ],
          "name": "stdout"
        }
      ]
    },
    {
      "cell_type": "markdown",
      "metadata": {
        "id": "qZ9Y-LRT6Isn",
        "colab_type": "text"
      },
      "source": [
        "### vamos a descargar los datos pacientes de mimicII con pic"
      ]
    },
    {
      "cell_type": "code",
      "metadata": {
        "id": "90jjI3VN6Iso",
        "colab_type": "code",
        "colab": {},
        "outputId": "eda08e6b-2a36-473f-a2cf-3db584a70a78"
      },
      "source": [
        "\n",
        "listaPacientesConICP = ['3002094','3011613','3906346']\n",
        "\n",
        "#mimic2wdb/30/3002094/\n",
        "\n",
        "\n",
        "for paciente in listaPacientesConICP:\n",
        "    print(paciente[0:2])\n",
        "    subCarpeta = paciente[0:2]\n",
        "    rutaMimic2wdb = \"mimic2wdb/\"+subCarpeta+\"/\"+paciente+\"/\"\n",
        "    bajarDatos(paciente,rutaMimic2wdb,2000)\n"
      ],
      "execution_count": null,
      "outputs": [
        {
          "output_type": "stream",
          "text": [
            "30\n"
          ],
          "name": "stdout"
        },
        {
          "output_type": "display_data",
          "data": {
            "image/png": "[encoded data removed]",
            "text/plain": [
              "<matplotlib.figure.Figure at 0x7f6914d72fd0>"
            ]
          },
          "metadata": {
            "tags": []
          }
        },
        {
          "output_type": "stream",
          "text": [
            "longitud de la suma de señales: 18000\n",
            "cantidad de columnas: 9\n",
            "longitud de cada columna: 2000\n",
            "variables: ['I', 'II', 'AVR', 'V', 'RESP', 'PLETH', 'ABP', 'CVP', 'ICP']\n",
            "30\n"
          ],
          "name": "stdout"
        },
        {
          "output_type": "display_data",
          "data": {
            "image/png": "[encoded data removed]",
            "text/plain": [
              "<matplotlib.figure.Figure at 0x7f6914ac3050>"
            ]
          },
          "metadata": {
            "tags": []
          }
        },
        {
          "output_type": "stream",
          "text": [
            "longitud de la suma de señales: 12000\n",
            "cantidad de columnas: 6\n",
            "longitud de cada columna: 2000\n",
            "variables: ['II', 'AVR', 'V', 'RESP', 'PLETH', 'ABP']\n",
            "39\n"
          ],
          "name": "stdout"
        },
        {
          "output_type": "display_data",
          "data": {
            "image/png": "[encoded data removed]",
            "text/plain": [
              "<matplotlib.figure.Figure at 0x7f6930092ed0>"
            ]
          },
          "metadata": {
            "tags": []
          }
        },
        {
          "output_type": "stream",
          "text": [
            "longitud de la suma de señales: 14000\n",
            "cantidad de columnas: 7\n",
            "longitud de cada columna: 2000\n",
            "variables: ['II', 'AVR', 'V', 'RESP', 'PLETH', 'ABP', 'ICP']\n"
          ],
          "name": "stdout"
        }
      ]
    },
    {
      "cell_type": "code",
      "metadata": {
        "id": "y7VLoLlF6Isr",
        "colab_type": "code",
        "colab": {}
      },
      "source": [
        "prueba = pd.read_csv('3002094.csv')"
      ],
      "execution_count": null,
      "outputs": []
    },
    {
      "cell_type": "code",
      "metadata": {
        "id": "V0WZPc7j6Isu",
        "colab_type": "code",
        "colab": {},
        "outputId": "1010d1e0-8fb7-4503-c6d2-bf6be5292eec"
      },
      "source": [
        "prueba"
      ],
      "execution_count": null,
      "outputs": [
        {
          "output_type": "execute_result",
          "data": {
            "text/html": [
              "<div>\n",
              "<style>\n",
              "    .dataframe thead tr:only-child th {\n",
              "        text-align: right;\n",
              "    }\n",
              "\n",
              "    .dataframe thead th {\n",
              "        text-align: left;\n",
              "    }\n",
              "\n",
              "    .dataframe tbody tr th {\n",
              "        vertical-align: top;\n",
              "    }\n",
              "</style>\n",
              "<table border=\"1\" class=\"dataframe\">\n",
              "  <thead>\n",
              "    <tr style=\"text-align: right;\">\n",
              "      <th></th>\n",
              "      <th>Unnamed: 0</th>\n",
              "      <th>I</th>\n",
              "      <th>II</th>\n",
              "      <th>AVR</th>\n",
              "      <th>V</th>\n",
              "      <th>RESP</th>\n",
              "      <th>PLETH</th>\n",
              "      <th>ABP</th>\n",
              "      <th>CVP</th>\n",
              "      <th>ICP</th>\n",
              "    </tr>\n",
              "  </thead>\n",
              "  <tbody>\n",
              "    <tr>\n",
              "      <th>0</th>\n",
              "      <td>0</td>\n",
              "      <td>NaN</td>\n",
              "      <td>NaN</td>\n",
              "      <td>NaN</td>\n",
              "      <td>NaN</td>\n",
              "      <td>NaN</td>\n",
              "      <td>NaN</td>\n",
              "      <td>NaN</td>\n",
              "      <td>NaN</td>\n",
              "      <td>NaN</td>\n",
              "    </tr>\n",
              "    <tr>\n",
              "      <th>1</th>\n",
              "      <td>1</td>\n",
              "      <td>NaN</td>\n",
              "      <td>NaN</td>\n",
              "      <td>NaN</td>\n",
              "      <td>NaN</td>\n",
              "      <td>NaN</td>\n",
              "      <td>NaN</td>\n",
              "      <td>NaN</td>\n",
              "      <td>NaN</td>\n",
              "      <td>NaN</td>\n",
              "    </tr>\n",
              "    <tr>\n",
              "      <th>2</th>\n",
              "      <td>2</td>\n",
              "      <td>NaN</td>\n",
              "      <td>NaN</td>\n",
              "      <td>NaN</td>\n",
              "      <td>NaN</td>\n",
              "      <td>NaN</td>\n",
              "      <td>NaN</td>\n",
              "      <td>NaN</td>\n",
              "      <td>NaN</td>\n",
              "      <td>NaN</td>\n",
              "    </tr>\n",
              "    <tr>\n",
              "      <th>3</th>\n",
              "      <td>3</td>\n",
              "      <td>NaN</td>\n",
              "      <td>NaN</td>\n",
              "      <td>NaN</td>\n",
              "      <td>NaN</td>\n",
              "      <td>NaN</td>\n",
              "      <td>NaN</td>\n",
              "      <td>NaN</td>\n",
              "      <td>NaN</td>\n",
              "      <td>NaN</td>\n",
              "    </tr>\n",
              "    <tr>\n",
              "      <th>4</th>\n",
              "      <td>4</td>\n",
              "      <td>NaN</td>\n",
              "      <td>NaN</td>\n",
              "      <td>NaN</td>\n",
              "      <td>NaN</td>\n",
              "      <td>NaN</td>\n",
              "      <td>NaN</td>\n",
              "      <td>NaN</td>\n",
              "      <td>NaN</td>\n",
              "      <td>NaN</td>\n",
              "    </tr>\n",
              "    <tr>\n",
              "      <th>5</th>\n",
              "      <td>5</td>\n",
              "      <td>NaN</td>\n",
              "      <td>NaN</td>\n",
              "      <td>NaN</td>\n",
              "      <td>NaN</td>\n",
              "      <td>NaN</td>\n",
              "      <td>NaN</td>\n",
              "      <td>NaN</td>\n",
              "      <td>NaN</td>\n",
              "      <td>NaN</td>\n",
              "    </tr>\n",
              "    <tr>\n",
              "      <th>6</th>\n",
              "      <td>6</td>\n",
              "      <td>NaN</td>\n",
              "      <td>NaN</td>\n",
              "      <td>NaN</td>\n",
              "      <td>NaN</td>\n",
              "      <td>NaN</td>\n",
              "      <td>NaN</td>\n",
              "      <td>NaN</td>\n",
              "      <td>NaN</td>\n",
              "      <td>NaN</td>\n",
              "    </tr>\n",
              "    <tr>\n",
              "      <th>7</th>\n",
              "      <td>7</td>\n",
              "      <td>NaN</td>\n",
              "      <td>NaN</td>\n",
              "      <td>NaN</td>\n",
              "      <td>NaN</td>\n",
              "      <td>NaN</td>\n",
              "      <td>NaN</td>\n",
              "      <td>NaN</td>\n",
              "      <td>NaN</td>\n",
              "      <td>NaN</td>\n",
              "    </tr>\n",
              "    <tr>\n",
              "      <th>8</th>\n",
              "      <td>8</td>\n",
              "      <td>NaN</td>\n",
              "      <td>NaN</td>\n",
              "      <td>NaN</td>\n",
              "      <td>NaN</td>\n",
              "      <td>NaN</td>\n",
              "      <td>NaN</td>\n",
              "      <td>NaN</td>\n",
              "      <td>NaN</td>\n",
              "      <td>NaN</td>\n",
              "    </tr>\n",
              "    <tr>\n",
              "      <th>9</th>\n",
              "      <td>9</td>\n",
              "      <td>NaN</td>\n",
              "      <td>NaN</td>\n",
              "      <td>NaN</td>\n",
              "      <td>NaN</td>\n",
              "      <td>NaN</td>\n",
              "      <td>NaN</td>\n",
              "      <td>NaN</td>\n",
              "      <td>NaN</td>\n",
              "      <td>NaN</td>\n",
              "    </tr>\n",
              "  </tbody>\n",
              "</table>\n",
              "</div>"
            ],
            "text/plain": [
              "   Unnamed: 0   I  II  AVR   V  RESP  PLETH  ABP  CVP  ICP\n",
              "0           0 NaN NaN  NaN NaN   NaN    NaN  NaN  NaN  NaN\n",
              "1           1 NaN NaN  NaN NaN   NaN    NaN  NaN  NaN  NaN\n",
              "2           2 NaN NaN  NaN NaN   NaN    NaN  NaN  NaN  NaN\n",
              "3           3 NaN NaN  NaN NaN   NaN    NaN  NaN  NaN  NaN\n",
              "4           4 NaN NaN  NaN NaN   NaN    NaN  NaN  NaN  NaN\n",
              "5           5 NaN NaN  NaN NaN   NaN    NaN  NaN  NaN  NaN\n",
              "6           6 NaN NaN  NaN NaN   NaN    NaN  NaN  NaN  NaN\n",
              "7           7 NaN NaN  NaN NaN   NaN    NaN  NaN  NaN  NaN\n",
              "8           8 NaN NaN  NaN NaN   NaN    NaN  NaN  NaN  NaN\n",
              "9           9 NaN NaN  NaN NaN   NaN    NaN  NaN  NaN  NaN"
            ]
          },
          "metadata": {
            "tags": []
          },
          "execution_count": 99
        }
      ]
    },
    {
      "cell_type": "markdown",
      "metadata": {
        "id": "a3fG9LLS6Isx",
        "colab_type": "text"
      },
      "source": [
        "# Ruta con CHARISDB"
      ]
    },
    {
      "cell_type": "code",
      "metadata": {
        "id": "Xu1YlJyu6Isy",
        "colab_type": "code",
        "colab": {},
        "outputId": "4cc10739-eedb-4229-9b47-914b3d6cba51"
      },
      "source": [
        "#listaPacientesConICP = ['charis1','charis2','charis3','charis4','charis5','charis6','charis7',\n",
        "#                        'charis8','charis9','charis10','charis11','charis12','charis13']\n",
        "\n",
        "#mimic2wdb/30/3002094/\n",
        "\n",
        "listaPacientesConICP = ['charis4']\n",
        "\n",
        "for paciente in listaPacientesConICP:\n",
        "    print(paciente)\n",
        "    rutaCharisDB = \"charisdb/\"\n",
        "    bajarDatos(paciente,rutaCharisDB)\n",
        "    print(\"--------------------------\")\n",
        "    print(\"\")"
      ],
      "execution_count": null,
      "outputs": [
        {
          "output_type": "stream",
          "text": [
            "charis4\n",
            "longitud de la suma de señales: 21599997\n",
            "cantidad de columnas: 3\n",
            "longitud de cada columna: 7199999\n",
            "variables: ['ABP', 'ECG', 'ICP']\n",
            "--------------------------\n",
            "\n"
          ],
          "name": "stdout"
        }
      ]
    },
    {
      "cell_type": "code",
      "metadata": {
        "id": "XrvDK2W26Is0",
        "colab_type": "code",
        "colab": {},
        "outputId": "15b57233-d9c6-4595-d6a2-d61b5ff01c0d"
      },
      "source": [
        "pd.read_csv('charis2.csv')"
      ],
      "execution_count": null,
      "outputs": [
        {
          "output_type": "error",
          "ename": "KeyboardInterrupt",
          "evalue": "",
          "traceback": [
            "\u001b[0;31m---------------------------------------------------------------------------\u001b[0m",
            "\u001b[0;31mKeyboardInterrupt\u001b[0m                         Traceback (most recent call last)",
            "\u001b[0;32m<ipython-input-4-3c25287f4db7>\u001b[0m in \u001b[0;36m<module>\u001b[0;34m()\u001b[0m\n\u001b[0;32m----> 1\u001b[0;31m \u001b[0mpd\u001b[0m\u001b[0;34m.\u001b[0m\u001b[0mread_csv\u001b[0m\u001b[0;34m(\u001b[0m\u001b[0;34m'charis2.csv'\u001b[0m\u001b[0;34m)\u001b[0m\u001b[0;34m\u001b[0m\u001b[0m\n\u001b[0m",
            "\u001b[0;32m/home/pic/anaconda2/lib/python2.7/site-packages/pandas/io/parsers.pyc\u001b[0m in \u001b[0;36mparser_f\u001b[0;34m(filepath_or_buffer, sep, delimiter, header, names, index_col, usecols, squeeze, prefix, mangle_dupe_cols, dtype, engine, converters, true_values, false_values, skipinitialspace, skiprows, nrows, na_values, keep_default_na, na_filter, verbose, skip_blank_lines, parse_dates, infer_datetime_format, keep_date_col, date_parser, dayfirst, iterator, chunksize, compression, thousands, decimal, lineterminator, quotechar, quoting, escapechar, comment, encoding, dialect, tupleize_cols, error_bad_lines, warn_bad_lines, skipfooter, skip_footer, doublequote, delim_whitespace, as_recarray, compact_ints, use_unsigned, low_memory, buffer_lines, memory_map, float_precision)\u001b[0m\n\u001b[1;32m    653\u001b[0m                     skip_blank_lines=skip_blank_lines)\n\u001b[1;32m    654\u001b[0m \u001b[0;34m\u001b[0m\u001b[0m\n\u001b[0;32m--> 655\u001b[0;31m         \u001b[0;32mreturn\u001b[0m \u001b[0m_read\u001b[0m\u001b[0;34m(\u001b[0m\u001b[0mfilepath_or_buffer\u001b[0m\u001b[0;34m,\u001b[0m \u001b[0mkwds\u001b[0m\u001b[0;34m)\u001b[0m\u001b[0;34m\u001b[0m\u001b[0m\n\u001b[0m\u001b[1;32m    656\u001b[0m \u001b[0;34m\u001b[0m\u001b[0m\n\u001b[1;32m    657\u001b[0m     \u001b[0mparser_f\u001b[0m\u001b[0;34m.\u001b[0m\u001b[0m__name__\u001b[0m \u001b[0;34m=\u001b[0m \u001b[0mname\u001b[0m\u001b[0;34m\u001b[0m\u001b[0m\n",
            "\u001b[0;32m/home/pic/anaconda2/lib/python2.7/site-packages/pandas/io/parsers.pyc\u001b[0m in \u001b[0;36m_read\u001b[0;34m(filepath_or_buffer, kwds)\u001b[0m\n\u001b[1;32m    409\u001b[0m \u001b[0;34m\u001b[0m\u001b[0m\n\u001b[1;32m    410\u001b[0m     \u001b[0;32mtry\u001b[0m\u001b[0;34m:\u001b[0m\u001b[0;34m\u001b[0m\u001b[0m\n\u001b[0;32m--> 411\u001b[0;31m         \u001b[0mdata\u001b[0m \u001b[0;34m=\u001b[0m \u001b[0mparser\u001b[0m\u001b[0;34m.\u001b[0m\u001b[0mread\u001b[0m\u001b[0;34m(\u001b[0m\u001b[0mnrows\u001b[0m\u001b[0;34m)\u001b[0m\u001b[0;34m\u001b[0m\u001b[0m\n\u001b[0m\u001b[1;32m    412\u001b[0m     \u001b[0;32mfinally\u001b[0m\u001b[0;34m:\u001b[0m\u001b[0;34m\u001b[0m\u001b[0m\n\u001b[1;32m    413\u001b[0m         \u001b[0mparser\u001b[0m\u001b[0;34m.\u001b[0m\u001b[0mclose\u001b[0m\u001b[0;34m(\u001b[0m\u001b[0;34m)\u001b[0m\u001b[0;34m\u001b[0m\u001b[0m\n",
            "\u001b[0;32m/home/pic/anaconda2/lib/python2.7/site-packages/pandas/io/parsers.pyc\u001b[0m in \u001b[0;36mread\u001b[0;34m(self, nrows)\u001b[0m\n\u001b[1;32m    980\u001b[0m                 \u001b[0;32mraise\u001b[0m \u001b[0mValueError\u001b[0m\u001b[0;34m(\u001b[0m\u001b[0;34m'skipfooter not supported for iteration'\u001b[0m\u001b[0;34m)\u001b[0m\u001b[0;34m\u001b[0m\u001b[0m\n\u001b[1;32m    981\u001b[0m \u001b[0;34m\u001b[0m\u001b[0m\n\u001b[0;32m--> 982\u001b[0;31m         \u001b[0mret\u001b[0m \u001b[0;34m=\u001b[0m \u001b[0mself\u001b[0m\u001b[0;34m.\u001b[0m\u001b[0m_engine\u001b[0m\u001b[0;34m.\u001b[0m\u001b[0mread\u001b[0m\u001b[0;34m(\u001b[0m\u001b[0mnrows\u001b[0m\u001b[0;34m)\u001b[0m\u001b[0;34m\u001b[0m\u001b[0m\n\u001b[0m\u001b[1;32m    983\u001b[0m \u001b[0;34m\u001b[0m\u001b[0m\n\u001b[1;32m    984\u001b[0m         \u001b[0;32mif\u001b[0m \u001b[0mself\u001b[0m\u001b[0;34m.\u001b[0m\u001b[0moptions\u001b[0m\u001b[0;34m.\u001b[0m\u001b[0mget\u001b[0m\u001b[0;34m(\u001b[0m\u001b[0;34m'as_recarray'\u001b[0m\u001b[0;34m)\u001b[0m\u001b[0;34m:\u001b[0m\u001b[0;34m\u001b[0m\u001b[0m\n",
            "\u001b[0;32m/home/pic/anaconda2/lib/python2.7/site-packages/pandas/io/parsers.pyc\u001b[0m in \u001b[0;36mread\u001b[0;34m(self, nrows)\u001b[0m\n\u001b[1;32m   1717\u001b[0m     \u001b[0;32mdef\u001b[0m \u001b[0mread\u001b[0m\u001b[0;34m(\u001b[0m\u001b[0mself\u001b[0m\u001b[0;34m,\u001b[0m \u001b[0mnrows\u001b[0m\u001b[0;34m=\u001b[0m\u001b[0mNone\u001b[0m\u001b[0;34m)\u001b[0m\u001b[0;34m:\u001b[0m\u001b[0;34m\u001b[0m\u001b[0m\n\u001b[1;32m   1718\u001b[0m         \u001b[0;32mtry\u001b[0m\u001b[0;34m:\u001b[0m\u001b[0;34m\u001b[0m\u001b[0m\n\u001b[0;32m-> 1719\u001b[0;31m             \u001b[0mdata\u001b[0m \u001b[0;34m=\u001b[0m \u001b[0mself\u001b[0m\u001b[0;34m.\u001b[0m\u001b[0m_reader\u001b[0m\u001b[0;34m.\u001b[0m\u001b[0mread\u001b[0m\u001b[0;34m(\u001b[0m\u001b[0mnrows\u001b[0m\u001b[0;34m)\u001b[0m\u001b[0;34m\u001b[0m\u001b[0m\n\u001b[0m\u001b[1;32m   1720\u001b[0m         \u001b[0;32mexcept\u001b[0m \u001b[0mStopIteration\u001b[0m\u001b[0;34m:\u001b[0m\u001b[0;34m\u001b[0m\u001b[0m\n\u001b[1;32m   1721\u001b[0m             \u001b[0;32mif\u001b[0m \u001b[0mself\u001b[0m\u001b[0;34m.\u001b[0m\u001b[0m_first_chunk\u001b[0m\u001b[0;34m:\u001b[0m\u001b[0;34m\u001b[0m\u001b[0m\n",
            "\u001b[0;32mpandas/_libs/parsers.pyx\u001b[0m in \u001b[0;36mpandas._libs.parsers.TextReader.read (pandas/_libs/parsers.c:10862)\u001b[0;34m()\u001b[0m\n",
            "\u001b[0;32mpandas/_libs/parsers.pyx\u001b[0m in \u001b[0;36mpandas._libs.parsers.TextReader._read_low_memory (pandas/_libs/parsers.c:11138)\u001b[0;34m()\u001b[0m\n",
            "\u001b[0;32mpandas/_libs/parsers.pyx\u001b[0m in \u001b[0;36mpandas._libs.parsers.TextReader._read_rows (pandas/_libs/parsers.c:12175)\u001b[0;34m()\u001b[0m\n",
            "\u001b[0;32mpandas/_libs/parsers.pyx\u001b[0m in \u001b[0;36mpandas._libs.parsers.TextReader._convert_column_data (pandas/_libs/parsers.c:14136)\u001b[0;34m()\u001b[0m\n",
            "\u001b[0;32mpandas/_libs/parsers.pyx\u001b[0m in \u001b[0;36mpandas._libs.parsers.TextReader._convert_tokens (pandas/_libs/parsers.c:14858)\u001b[0;34m()\u001b[0m\n",
            "\u001b[0;32mpandas/_libs/parsers.pyx\u001b[0m in \u001b[0;36mpandas._libs.parsers.TextReader._convert_with_dtype (pandas/_libs/parsers.c:15629)\u001b[0;34m()\u001b[0m\n",
            "\u001b[0;32m/home/pic/anaconda2/lib/python2.7/site-packages/pandas/core/dtypes/common.pyc\u001b[0m in \u001b[0;36mis_integer_dtype\u001b[0;34m(arr_or_dtype)\u001b[0m\n\u001b[1;32m    735\u001b[0m \u001b[0;34m\u001b[0m\u001b[0m\n\u001b[1;32m    736\u001b[0m \u001b[0;34m\u001b[0m\u001b[0m\n\u001b[0;32m--> 737\u001b[0;31m \u001b[0;32mdef\u001b[0m \u001b[0mis_integer_dtype\u001b[0m\u001b[0;34m(\u001b[0m\u001b[0marr_or_dtype\u001b[0m\u001b[0;34m)\u001b[0m\u001b[0;34m:\u001b[0m\u001b[0;34m\u001b[0m\u001b[0m\n\u001b[0m\u001b[1;32m    738\u001b[0m     \"\"\"\n\u001b[1;32m    739\u001b[0m     \u001b[0mCheck\u001b[0m \u001b[0mwhether\u001b[0m \u001b[0mthe\u001b[0m \u001b[0mprovided\u001b[0m \u001b[0marray\u001b[0m \u001b[0;32mor\u001b[0m \u001b[0mdtype\u001b[0m \u001b[0;32mis\u001b[0m \u001b[0mof\u001b[0m \u001b[0man\u001b[0m \u001b[0minteger\u001b[0m \u001b[0mdtype\u001b[0m\u001b[0;34m.\u001b[0m\u001b[0;34m\u001b[0m\u001b[0m\n",
            "\u001b[0;31mKeyboardInterrupt\u001b[0m: "
          ]
        }
      ]
    },
    {
      "cell_type": "code",
      "metadata": {
        "id": "ZW96dTj46Is4",
        "colab_type": "code",
        "colab": {},
        "outputId": "0a9f43ec-2cb2-4768-c81d-4cd6ed0e8aa0"
      },
      "source": [
        "0.00033/0.020\n"
      ],
      "execution_count": null,
      "outputs": [
        {
          "output_type": "execute_result",
          "data": {
            "text/plain": [
              "0.0165"
            ]
          },
          "metadata": {
            "tags": []
          },
          "execution_count": 2
        }
      ]
    },
    {
      "cell_type": "code",
      "metadata": {
        "id": "4TTxBzOr6Is6",
        "colab_type": "code",
        "colab": {},
        "outputId": "b44a9890-ab8d-4c49-8e3c-c532c6183cd4"
      },
      "source": [
        "0.040/0.00067"
      ],
      "execution_count": null,
      "outputs": [
        {
          "output_type": "execute_result",
          "data": {
            "text/plain": [
              "59.701492537313435"
            ]
          },
          "metadata": {
            "tags": []
          },
          "execution_count": 4
        }
      ]
    },
    {
      "cell_type": "code",
      "metadata": {
        "id": "6QtsdkHb6Is9",
        "colab_type": "code",
        "colab": {},
        "outputId": "f6f74f0b-55d3-4165-849e-2bb65872cd8d"
      },
      "source": [
        "second = pd.read_csv('charis112second.csv')\n",
        "second.head()\n",
        "second[\"'Elapsed time'\"][1:52]"
      ],
      "execution_count": null,
      "outputs": [
        {
          "output_type": "execute_result",
          "data": {
            "text/plain": [
              "1     0.000\n",
              "2     0.020\n",
              "3     0.040\n",
              "4     0.060\n",
              "5     0.080\n",
              "6     0.100\n",
              "7     0.120\n",
              "8     0.140\n",
              "9     0.160\n",
              "10    0.180\n",
              "11    0.200\n",
              "12    0.220\n",
              "13    0.240\n",
              "14    0.260\n",
              "15    0.280\n",
              "16    0.300\n",
              "17    0.320\n",
              "18    0.340\n",
              "19    0.360\n",
              "20    0.380\n",
              "21    0.400\n",
              "22    0.420\n",
              "23    0.440\n",
              "24    0.460\n",
              "25    0.480\n",
              "26    0.500\n",
              "27    0.520\n",
              "28    0.540\n",
              "29    0.560\n",
              "30    0.580\n",
              "31    0.600\n",
              "32    0.620\n",
              "33    0.640\n",
              "34    0.660\n",
              "35    0.680\n",
              "36    0.700\n",
              "37    0.720\n",
              "38    0.740\n",
              "39    0.760\n",
              "40    0.780\n",
              "41    0.800\n",
              "42    0.820\n",
              "43    0.840\n",
              "44    0.860\n",
              "45    0.880\n",
              "46    0.900\n",
              "47    0.920\n",
              "48    0.940\n",
              "49    0.960\n",
              "50    0.980\n",
              "51    1.000\n",
              "Name: 'Elapsed time', dtype: object"
            ]
          },
          "metadata": {
            "tags": []
          },
          "execution_count": 22
        }
      ]
    },
    {
      "cell_type": "code",
      "metadata": {
        "id": "HZ53wLIJ6ItA",
        "colab_type": "code",
        "colab": {},
        "outputId": "abacd827-0184-4c06-e81e-7555f2993841"
      },
      "source": [
        "1/0.02"
      ],
      "execution_count": null,
      "outputs": [
        {
          "output_type": "execute_result",
          "data": {
            "text/plain": [
              "50.0"
            ]
          },
          "metadata": {
            "tags": []
          },
          "execution_count": 19
        }
      ]
    },
    {
      "cell_type": "code",
      "metadata": {
        "id": "uJKkjtft6ItC",
        "colab_type": "code",
        "colab": {}
      },
      "source": [
        ""
      ],
      "execution_count": null,
      "outputs": []
    }
  ]
}