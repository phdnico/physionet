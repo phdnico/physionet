{
  "nbformat": 4,
  "nbformat_minor": 0,
  "metadata": {
    "kernelspec": {
      "display_name": "Python 2",
      "language": "python",
      "name": "python2"
    },
    "language_info": {
      "codemirror_mode": {
        "name": "ipython",
        "version": 2
      },
      "file_extension": ".py",
      "mimetype": "text/x-python",
      "name": "python",
      "nbconvert_exporter": "python",
      "pygments_lexer": "ipython2",
      "version": "2.7.13"
    },
    "colab": {
      "name": "demo_modificadoNico.ipynb",
      "provenance": []
    }
  },
  "cells": [
    {
      "cell_type": "markdown",
      "metadata": {
        "id": "6pfvb-Vw6zvU",
        "colab_type": "text"
      },
      "source": [
        "# Modificaciones de  https://github.com/MIT-LCP/wfdb-python"
      ]
    },
    {
      "cell_type": "markdown",
      "metadata": {
        "id": "37akvpqv6pMw",
        "colab_type": "text"
      },
      "source": [
        "# Demo Scripts for the wfdb-python package\n",
        "\n",
        "Run this script from the base directory of the git repository to access the included demo files"
      ]
    },
    {
      "cell_type": "code",
      "metadata": {
        "id": "FccJ0H-F6pMx",
        "colab_type": "code",
        "colab": {}
      },
      "source": [
        "import wfdb\n",
        "import numpy as np\n",
        "import os\n",
        "from IPython.display import display\n",
        "import matplotlib.pyplot as plt\n",
        "import pandas as  pd"
      ],
      "execution_count": null,
      "outputs": []
    },
    {
      "cell_type": "code",
      "metadata": {
        "id": "5UuOMK2j6pM2",
        "colab_type": "code",
        "colab": {},
        "outputId": "b3d540a7-7d70-452d-90fa-aef451cb041c"
      },
      "source": [
        "url = \"charisdb/\"\n",
        "senial = wfdb.rdsamp('charis2',pbdir = url)\n",
        "wfdb.plotrec(senial, title = 'prueba')\n",
        "#diplay(senial.__dict__)"
      ],
      "execution_count": null,
      "outputs": [
        {
          "output_type": "error",
          "ename": "MemoryError",
          "evalue": "",
          "traceback": [
            "\u001b[0;31m---------------------------------------------------------------------------\u001b[0m",
            "\u001b[0;31mMemoryError\u001b[0m                               Traceback (most recent call last)",
            "\u001b[0;32m<ipython-input-3-7df7b8682ff5>\u001b[0m in \u001b[0;36m<module>\u001b[0;34m()\u001b[0m\n\u001b[1;32m      1\u001b[0m \u001b[0murl\u001b[0m \u001b[0;34m=\u001b[0m \u001b[0;34m\"charisdb/\"\u001b[0m\u001b[0;34m\u001b[0m\u001b[0m\n\u001b[0;32m----> 2\u001b[0;31m \u001b[0msenial\u001b[0m \u001b[0;34m=\u001b[0m \u001b[0mwfdb\u001b[0m\u001b[0;34m.\u001b[0m\u001b[0mrdsamp\u001b[0m\u001b[0;34m(\u001b[0m\u001b[0;34m'charis2'\u001b[0m\u001b[0;34m,\u001b[0m\u001b[0mpbdir\u001b[0m \u001b[0;34m=\u001b[0m \u001b[0murl\u001b[0m\u001b[0;34m)\u001b[0m\u001b[0;34m\u001b[0m\u001b[0m\n\u001b[0m\u001b[1;32m      3\u001b[0m \u001b[0mwfdb\u001b[0m\u001b[0;34m.\u001b[0m\u001b[0mplotrec\u001b[0m\u001b[0;34m(\u001b[0m\u001b[0msenial\u001b[0m\u001b[0;34m,\u001b[0m \u001b[0mtitle\u001b[0m \u001b[0;34m=\u001b[0m \u001b[0;34m'prueba'\u001b[0m\u001b[0;34m)\u001b[0m\u001b[0;34m\u001b[0m\u001b[0m\n\u001b[1;32m      4\u001b[0m \u001b[0;31m#diplay(senial.__dict__)\u001b[0m\u001b[0;34m\u001b[0m\u001b[0;34m\u001b[0m\u001b[0m\n",
            "\u001b[0;32m/home/pic/Escritorio/wfdb-python-master/wfdb/readwrite/records.pyc\u001b[0m in \u001b[0;36mrdsamp\u001b[0;34m(recordname, sampfrom, sampto, channels, physical, pbdir, m2s, smoothframes, ignoreskew)\u001b[0m\n\u001b[1;32m    808\u001b[0m             record.d_signals = _signals.rdsegment(record.filename, dirname, pbdir, record.nsig, record.fmt, record.siglen,\n\u001b[1;32m    809\u001b[0m                                                   \u001b[0mrecord\u001b[0m\u001b[0;34m.\u001b[0m\u001b[0mbyteoffset\u001b[0m\u001b[0;34m,\u001b[0m \u001b[0mrecord\u001b[0m\u001b[0;34m.\u001b[0m\u001b[0msampsperframe\u001b[0m\u001b[0;34m,\u001b[0m \u001b[0mrecord\u001b[0m\u001b[0;34m.\u001b[0m\u001b[0mskew\u001b[0m\u001b[0;34m,\u001b[0m\u001b[0;34m\u001b[0m\u001b[0m\n\u001b[0;32m--> 810\u001b[0;31m                                                   sampfrom, sampto, channels, smoothframes, ignoreskew)\n\u001b[0m\u001b[1;32m    811\u001b[0m \u001b[0;34m\u001b[0m\u001b[0m\n\u001b[1;32m    812\u001b[0m             \u001b[0;31m# Arrange/edit the object fields to reflect user channel and/or signal range input\u001b[0m\u001b[0;34m\u001b[0m\u001b[0;34m\u001b[0m\u001b[0m\n",
            "\u001b[0;32m/home/pic/Escritorio/wfdb-python-master/wfdb/readwrite/_signals.pyc\u001b[0m in \u001b[0;36mrdsegment\u001b[0;34m(filename, dirname, pbdir, nsig, fmt, siglen, byteoffset, sampsperframe, skew, sampfrom, sampto, channels, smoothframes, ignoreskew)\u001b[0m\n\u001b[1;32m    531\u001b[0m         \u001b[0;32mfor\u001b[0m \u001b[0mfn\u001b[0m \u001b[0;32min\u001b[0m \u001b[0mw_filename\u001b[0m\u001b[0;34m:\u001b[0m\u001b[0;34m\u001b[0m\u001b[0m\n\u001b[1;32m    532\u001b[0m             signals[:, out_datchannel[fn]] = rddat(fn, dirname, pbdir, w_fmt[fn], len(datchannel[fn]), \n\u001b[0;32m--> 533\u001b[0;31m                 siglen, w_byteoffset[fn], w_sampsperframe[fn], w_skew[fn], sampfrom, sampto, smoothframes)[:, r_w_channel[fn]]\n\u001b[0m\u001b[1;32m    534\u001b[0m \u001b[0;34m\u001b[0m\u001b[0m\n\u001b[1;32m    535\u001b[0m     \u001b[0;31m# Return each sample in signals with multiple samples/frame, without smoothing.\u001b[0m\u001b[0;34m\u001b[0m\u001b[0;34m\u001b[0m\u001b[0m\n",
            "\u001b[0;32m/home/pic/Escritorio/wfdb-python-master/wfdb/readwrite/_signals.pyc\u001b[0m in \u001b[0;36mrddat\u001b[0;34m(filename, dirname, pbdir, fmt, nsig, siglen, byteoffset, sampsperframe, skew, sampfrom, sampto, smoothframes)\u001b[0m\n\u001b[1;32m    609\u001b[0m                                       np.zeros(extraflatsamples, dtype='int64')))\n\u001b[1;32m    610\u001b[0m     \u001b[0;32melse\u001b[0m\u001b[0;34m:\u001b[0m\u001b[0;34m\u001b[0m\u001b[0m\n\u001b[0;32m--> 611\u001b[0;31m         \u001b[0msigbytes\u001b[0m \u001b[0;34m=\u001b[0m \u001b[0mgetdatbytes\u001b[0m\u001b[0;34m(\u001b[0m\u001b[0mfilename\u001b[0m\u001b[0;34m,\u001b[0m \u001b[0mdirname\u001b[0m\u001b[0;34m,\u001b[0m \u001b[0mpbdir\u001b[0m\u001b[0;34m,\u001b[0m \u001b[0mfmt\u001b[0m\u001b[0;34m,\u001b[0m \u001b[0mstartbyte\u001b[0m\u001b[0;34m,\u001b[0m \u001b[0mnreadsamples\u001b[0m\u001b[0;34m)\u001b[0m\u001b[0;34m\u001b[0m\u001b[0m\n\u001b[0m\u001b[1;32m    612\u001b[0m \u001b[0;34m\u001b[0m\u001b[0m\n\u001b[1;32m    613\u001b[0m     \u001b[0;31m# Continue to process the read values into proper samples\u001b[0m\u001b[0;34m\u001b[0m\u001b[0;34m\u001b[0m\u001b[0m\n",
            "\u001b[0;32m/home/pic/Escritorio/wfdb-python-master/wfdb/readwrite/_signals.pyc\u001b[0m in \u001b[0;36mgetdatbytes\u001b[0;34m(filename, dirname, pbdir, fmt, startbyte, nsamp)\u001b[0m\n\u001b[1;32m    816\u001b[0m     \u001b[0;31m# Same output as above np.fromfile.\u001b[0m\u001b[0;34m\u001b[0m\u001b[0;34m\u001b[0m\u001b[0m\n\u001b[1;32m    817\u001b[0m     \u001b[0;32melse\u001b[0m\u001b[0;34m:\u001b[0m\u001b[0;34m\u001b[0m\u001b[0m\n\u001b[0;32m--> 818\u001b[0;31m         \u001b[0msigbytes\u001b[0m \u001b[0;34m=\u001b[0m \u001b[0mdownloads\u001b[0m\u001b[0;34m.\u001b[0m\u001b[0mstreamdat\u001b[0m\u001b[0;34m(\u001b[0m\u001b[0mfilename\u001b[0m\u001b[0;34m,\u001b[0m \u001b[0mpbdir\u001b[0m\u001b[0;34m,\u001b[0m \u001b[0mfmt\u001b[0m\u001b[0;34m,\u001b[0m \u001b[0mbytecount\u001b[0m\u001b[0;34m,\u001b[0m \u001b[0mstartbyte\u001b[0m\u001b[0;34m,\u001b[0m \u001b[0mdataloadtypes\u001b[0m\u001b[0;34m)\u001b[0m\u001b[0;34m\u001b[0m\u001b[0m\n\u001b[0m\u001b[1;32m    819\u001b[0m \u001b[0;34m\u001b[0m\u001b[0m\n\u001b[1;32m    820\u001b[0m     \u001b[0;32mreturn\u001b[0m \u001b[0msigbytes\u001b[0m\u001b[0;34m\u001b[0m\u001b[0m\n",
            "\u001b[0;32m/home/pic/Escritorio/wfdb-python-master/wfdb/readwrite/downloads.pyc\u001b[0m in \u001b[0;36mstreamdat\u001b[0;34m(filename, pbdir, fmt, bytecount, startbyte, datatypes)\u001b[0m\n\u001b[1;32m     60\u001b[0m     \u001b[0;31m# Convert to numpy array\u001b[0m\u001b[0;34m\u001b[0m\u001b[0;34m\u001b[0m\u001b[0m\n\u001b[1;32m     61\u001b[0m     \u001b[0;31m# Cast to int64 for further processing\u001b[0m\u001b[0;34m\u001b[0m\u001b[0;34m\u001b[0m\u001b[0m\n\u001b[0;32m---> 62\u001b[0;31m     \u001b[0msigbytes\u001b[0m \u001b[0;34m=\u001b[0m \u001b[0mnp\u001b[0m\u001b[0;34m.\u001b[0m\u001b[0mfromstring\u001b[0m\u001b[0;34m(\u001b[0m\u001b[0msigbytes\u001b[0m\u001b[0;34m,\u001b[0m \u001b[0mdtype\u001b[0m \u001b[0;34m=\u001b[0m \u001b[0mnp\u001b[0m\u001b[0;34m.\u001b[0m\u001b[0mdtype\u001b[0m\u001b[0;34m(\u001b[0m\u001b[0mdatatypes\u001b[0m\u001b[0;34m[\u001b[0m\u001b[0mfmt\u001b[0m\u001b[0;34m]\u001b[0m\u001b[0;34m)\u001b[0m\u001b[0;34m)\u001b[0m\u001b[0;34m.\u001b[0m\u001b[0mastype\u001b[0m\u001b[0;34m(\u001b[0m\u001b[0;34m'int'\u001b[0m\u001b[0;34m)\u001b[0m\u001b[0;34m\u001b[0m\u001b[0m\n\u001b[0m\u001b[1;32m     63\u001b[0m \u001b[0;34m\u001b[0m\u001b[0m\n\u001b[1;32m     64\u001b[0m     \u001b[0;32mreturn\u001b[0m \u001b[0msigbytes\u001b[0m\u001b[0;34m\u001b[0m\u001b[0m\n",
            "\u001b[0;31mMemoryError\u001b[0m: "
          ]
        }
      ]
    },
    {
      "cell_type": "code",
      "metadata": {
        "id": "v7Q3oawY6pM6",
        "colab_type": "code",
        "colab": {},
        "outputId": "625e45be-9b01-4971-8d05-1217496073e4"
      },
      "source": [
        "!rsync physionet.org::charisdb"
      ],
      "execution_count": null,
      "outputs": [
        {
          "output_type": "stream",
          "text": [
            "@ERROR: Unknown module 'charisdb::all'\r\n",
            "rsync error: error starting client-server protocol (code 5) at main.c(1653) [Receiver=3.1.1]\r\n"
          ],
          "name": "stdout"
        }
      ]
    },
    {
      "cell_type": "code",
      "metadata": {
        "id": "deFd3_VH6pM9",
        "colab_type": "code",
        "colab": {}
      },
      "source": [
        "!rsync -a physionet.org::mirror-setup mirror-setup"
      ],
      "execution_count": null,
      "outputs": []
    },
    {
      "cell_type": "code",
      "metadata": {
        "id": "4O8YcqDt6pM_",
        "colab_type": "code",
        "colab": {},
        "outputId": "66fd4fd5-04d1-4550-ca16-81c23ae9ec23"
      },
      "source": [
        "!rsync physionet.org::charisdb /home/pic/Escritorio/wfdb-python-master/carpeta/"
      ],
      "execution_count": null,
      "outputs": [
        {
          "output_type": "stream",
          "text": [
            "skipping directory .\r\n"
          ],
          "name": "stdout"
        }
      ]
    },
    {
      "cell_type": "code",
      "metadata": {
        "scrolled": true,
        "id": "I9MlC8Gj6pND",
        "colab_type": "code",
        "colab": {},
        "outputId": "f88fb410-3bbf-4976-e8ba-f00e241d3a98"
      },
      "source": [
        "# See the help documentation for the read functions\n",
        "\n",
        "help(wfdb.rdsamp)\n",
        "#help(wfdb.srdsamp)\n",
        "#help(wfdb.rdann)"
      ],
      "execution_count": null,
      "outputs": [
        {
          "output_type": "stream",
          "text": [
            "Help on function rdsamp in module wfdb.readwrite.records:\n",
            "\n",
            "rdsamp(recordname, sampfrom=0, sampto=None, channels=None, physical=True, pbdir=None, m2s=True, smoothframes=True, ignoreskew=False)\n",
            "    Read a WFDB record and return the signal and record descriptors as attributes in a\n",
            "    Record or MultiRecord object.\n",
            "    \n",
            "    Usage:\n",
            "    record = rdsamp(recordname, sampfrom=0, sampto=None, channels=None, physical=True, pbdir = None,\n",
            "             m2s=True, smoothframes = True, ignoreskew=False)\n",
            "    \n",
            "    Input arguments:\n",
            "    - recordname (required): The name of the WFDB record to be read (without any file extensions).\n",
            "      If the argument contains any path delimiter characters, the argument will be interpreted as\n",
            "      PATH/baserecord and the data files will be searched for in the local path.\n",
            "    - sampfrom (default=0): The starting sample number to read for each channel.\n",
            "    - sampto (default=None): The sample number at which to stop reading for each channel.\n",
            "    - channels (default=all): Indices specifying the channel to be returned.\n",
            "    - physical (default=True): Flag that specifies whether to return signals in physical units in\n",
            "      the p_signals field (True), or digital units in the d_signals field (False).\n",
            "    - pbdir (default=None): Option used to stream data from Physiobank. The Physiobank database\n",
            "       directory from which to find the required record files.\n",
            "      eg. For record '100' in 'http://physionet.org/physiobank/database/mitdb', pbdir = 'mitdb'.\n",
            "    - m2s (default=True): Flag used when reading multi-segment records. Specifies whether to\n",
            "      directly return a wfdb MultiRecord object (False), or to convert it into and return a wfdb\n",
            "      Record object (True).\n",
            "    - smoothframes (default=True): Flag used when reading records with signals having multiple\n",
            "      samples per frame. Specifies whether to smooth the samples in signals with more than\n",
            "      one sample per frame and return an mxn uniform numpy array as the d_signals or p_signals\n",
            "      field (True), or to return a list of 1d numpy arrays containing every expanded sample as\n",
            "      the e_d_signals or e_p_signals field (False).\n",
            "    - ignoreskew (default=False): Flag used when reading records with at least one skewed signal.\n",
            "      Specifies whether to apply the skew to align the signals in the output variable (False), or\n",
            "      to ignore the skew field and load in all values contained in the dat files unaligned (True).\n",
            "    \n",
            "    Output argument:\n",
            "    - record: The wfdb Record or MultiRecord object representing the contents of the record read.\n",
            "    \n",
            "    Note: If a signal range or channel selection is specified when calling this function, the\n",
            "          the resulting attributes of the returned object will be set to reflect the section\n",
            "          of the record that is actually read, rather than necessarily what is in the header file.\n",
            "          For example, if channels = [0, 1, 2] is specified when reading a 12 channel record, the\n",
            "          'nsig' attribute will be 3, not 12.\n",
            "    \n",
            "    Note: The 'srdsamp' function exists as a simple alternative to 'rdsamp' for the most common\n",
            "          purpose of extracting the physical signals and a few important descriptor fields.\n",
            "          'srdsamp' returns two arguments: the physical signals array, and a dictionary of a\n",
            "          few select fields, a subset of the original wfdb Record attributes.\n",
            "    \n",
            "    Example Usage:\n",
            "    import wfdb\n",
            "    ecgrecord = wfdb.rdsamp('sampledata/test01_00s', sampfrom=800, channels = [1,3])\n",
            "\n"
          ],
          "name": "stdout"
        }
      ]
    },
    {
      "cell_type": "code",
      "metadata": {
        "id": "Z1VbIESv6pNG",
        "colab_type": "code",
        "colab": {}
      },
      "source": [
        ""
      ],
      "execution_count": null,
      "outputs": []
    },
    {
      "cell_type": "markdown",
      "metadata": {
        "id": "1iZ6FQw-6pNJ",
        "colab_type": "text"
      },
      "source": [
        "## Accedemos a la ruta"
      ]
    },
    {
      "cell_type": "code",
      "metadata": {
        "id": "i5OR3zPR6pNK",
        "colab_type": "code",
        "colab": {},
        "outputId": "bdc3bd70-09ee-4fe0-a7d6-b226b591df6d"
      },
      "source": [
        "# Demo 1 - Read a wfdb record using the 'rdsamp' function into a wfdb.Record object.\n",
        "# Plot the signals, and show the data.\n",
        "\n",
        "#record = wfdb.rdsamp('sampledata/t107l') \n",
        "#wfdb.plotrec(record, title='Record a105l from Physionet Challenge 2015') \n",
        "#display(record.__dict__)\n",
        "\n",
        "\n",
        "# Can also read the same files hosted on Physiobank https://physionet.org/physiobank/database/\n",
        "# in the challenge/2015/training/ database subdirectory. Full url = urecord2 = wfdb.rdsamp('charis1', pbdir = 'charisdb/')\n",
        "wfdb.plotrec(record2, title='Record CHARIS1 from Physionet CharisDB') \n",
        "display(record2.__dict__)\n",
        "\n"
      ],
      "execution_count": null,
      "outputs": [
        {
          "output_type": "display_data",
          "data": {
            "image/png": "[encoded data removed]",
            "text/plain": [
              "<matplotlib.figure.Figure at 0x7fdfa2d8f0d0>"
            ]
          },
          "metadata": {
            "tags": []
          }
        },
        {
          "output_type": "display_data",
          "data": {
            "text/plain": [
              "{'adcgain': [85.953, 6081.5219, 94.8784],\n",
              " 'adcres': [0, 0, 0],\n",
              " 'adczero': [0, 0, 0],\n",
              " 'basecounter': None,\n",
              " 'basedate': None,\n",
              " 'baseline': [-1332, -398, -2316],\n",
              " 'basetime': None,\n",
              " 'blocksize': [0, 0, 0],\n",
              " 'byteoffset': [None, None, None],\n",
              " 'checksum': [-27139, 26935, 27046],\n",
              " 'comments': ['<age>: 19  <sex>: M  <diagnoses>: (SAH/SDH/TBI)  <outcome>: Rehab'],\n",
              " 'counterfreq': None,\n",
              " 'd_signals': None,\n",
              " 'e_d_signals': None,\n",
              " 'e_p_signals': None,\n",
              " 'filename': ['charis1.dat', 'charis1.dat', 'charis1.dat'],\n",
              " 'fmt': ['16', '16', '16'],\n",
              " 'fs': 50,\n",
              " 'initvalue': [0, 0, 0],\n",
              " 'nsig': 3,\n",
              " 'p_signals': array([[ -1.16342652e-02,   7.87631793e-02,   2.10796135e+01],\n",
              "        [ -1.16342652e-02,   6.37998196e-02,   2.05737028e+01],\n",
              "        [ -4.65370610e-02,   3.10777472e-02,   2.04683047e+01],\n",
              "        ..., \n",
              "        [  8.87461752e+01,   8.91388716e-01,   7.59920066e+00],\n",
              "        [  8.67334473e+01,  -1.50126895e-01,   5.77581409e+00],\n",
              "        [  8.53024327e+01,  -5.87024113e-02,   4.95370917e+00]]),\n",
              " 'recordname': 'charis1',\n",
              " 'sampsperframe': [1, 1, 1],\n",
              " 'siglen': 12239851,\n",
              " 'signame': ['ABP', 'ECG', 'ICP'],\n",
              " 'skew': [None, None, None],\n",
              " 'units': ['mmHg', 'mV', 'mmHg']}"
            ]
          },
          "metadata": {
            "tags": []
          }
        }
      ]
    },
    {
      "cell_type": "code",
      "metadata": {
        "id": "eVLW4-kk6pNN",
        "colab_type": "code",
        "colab": {},
        "outputId": "8e2ba7b1-2cc0-409b-9c80-10aa1066ffc1"
      },
      "source": [
        "len(record2.p_signals[:])"
      ],
      "execution_count": null,
      "outputs": [
        {
          "output_type": "execute_result",
          "data": {
            "text/plain": [
              "3"
            ]
          },
          "metadata": {
            "tags": []
          },
          "execution_count": 20
        }
      ]
    },
    {
      "cell_type": "code",
      "metadata": {
        "id": "CYAySABa6pNP",
        "colab_type": "code",
        "colab": {}
      },
      "source": [
        "signales = np.ndarray.flatten(record2.p_signals)\n",
        "tamanio = len(signales)/3"
      ],
      "execution_count": null,
      "outputs": []
    },
    {
      "cell_type": "code",
      "metadata": {
        "id": "gxHTyEtD6pNS",
        "colab_type": "code",
        "colab": {}
      },
      "source": [
        "reFactorizacion = signales.reshape(tamanio,3)"
      ],
      "execution_count": null,
      "outputs": []
    },
    {
      "cell_type": "code",
      "metadata": {
        "id": "Hcz2ALgR6pNV",
        "colab_type": "code",
        "colab": {}
      },
      "source": [
        "senialABP = []\n",
        "senialECG = []\n",
        "senialICP = []\n",
        "for reFactor in reFactorizacion:\n",
        "    senialABP.append(reFactor[0])\n",
        "    senialECG.append(reFactor[1])\n",
        "    senialICP.append(reFactor[2])\n",
        "senialABP = np.asarray(senialABP)\n",
        "senialECG = np.asarray(senialECG)\n",
        "senialICP = np.asarray(senialICP)\n"
      ],
      "execution_count": null,
      "outputs": []
    },
    {
      "cell_type": "code",
      "metadata": {
        "id": "f3YlBbp16pNY",
        "colab_type": "code",
        "colab": {},
        "outputId": "ffda3fbb-a464-4e2f-dd95-6fa98f2767a1"
      },
      "source": [
        "senialABP[0:100]"
      ],
      "execution_count": null,
      "outputs": [
        {
          "output_type": "execute_result",
          "data": {
            "text/plain": [
              "array([-0.01163427, -0.01163427, -0.04653706,  0.27922237,  0.16287971,\n",
              "       -0.10470839,  0.        ,  0.20941677,  0.15124545, -0.06980559,\n",
              "       -0.04653706,  0.01163427,  0.39556502, -0.08143986, -0.0349028 ,\n",
              "        0.2326853 , -0.06980559, -0.08143986,  0.04653706,  0.48863914,\n",
              "       -0.06980559,  0.37229649,  0.20941677,  0.29085663,  0.06980559,\n",
              "        0.39556502,  0.15124545, -0.04653706, -0.08143986,  0.09307412,\n",
              "        0.06980559, -0.08143986, -0.04653706,  0.        , -0.0349028 ,\n",
              "        0.04653706,  0.36066222,  0.19778251, -0.0349028 , -0.11634265,\n",
              "        0.43046781,  0.37229649,  0.16287971,  0.04653706,  0.36066222,\n",
              "       -0.0349028 , -0.08143986,  0.01163427,  0.20941677,  0.        ,\n",
              "        0.32575943,  0.16287971,  0.12797692, -0.08143986,  0.29085663,\n",
              "        0.01163427,  0.09307412,  0.04653706,  0.        ,  0.01163427,\n",
              "       -0.01163427,  0.2675881 ,  0.0349028 ,  0.11634265,  0.        ,\n",
              "       -0.04653706,  0.01163427,  0.31412516,  0.04653706,  0.        ,\n",
              "        0.04653706,  0.09307412, -0.08143986,  0.47700487,  0.0349028 ,\n",
              "        0.0349028 , -0.39556502,  0.0349028 , -0.0349028 , -0.08143986,\n",
              "       -0.0349028 ,  0.04653706,  0.0349028 , -0.10470839,  0.04653706,\n",
              "        0.09307412, -0.04653706,  0.15124545,  0.04653706,  0.        ,\n",
              "        0.46537061, -0.01163427,  0.06980559,  0.11634265, -0.06980559,\n",
              "        0.01163427,  0.04653706, -0.06980559,  0.06980559,  0.01163427])"
            ]
          },
          "metadata": {
            "tags": []
          },
          "execution_count": 10
        }
      ]
    },
    {
      "cell_type": "code",
      "metadata": {
        "scrolled": true,
        "id": "_f-GBCXX6pNb",
        "colab_type": "code",
        "colab": {},
        "outputId": "ff02111b-751f-4176-bd47-4c020ec7388e"
      },
      "source": [
        "plt.plot(senialICP[0:1200])\n",
        "plt.show()"
      ],
      "execution_count": null,
      "outputs": [
        {
          "output_type": "display_data",
          "data": {
            "image/png": "[encoded data removed]",
            "text/plain": [
              "<matplotlib.figure.Figure at 0x7fdf72942450>"
            ]
          },
          "metadata": {
            "tags": []
          }
        }
      ]
    },
    {
      "cell_type": "code",
      "metadata": {
        "id": "XnZvZyWk6pNd",
        "colab_type": "code",
        "colab": {},
        "outputId": "4cd118a6-daf3-4462-e25a-41ea016d5ba2"
      },
      "source": [
        "senialICP[0:1200]"
      ],
      "execution_count": null,
      "outputs": [
        {
          "output_type": "execute_result",
          "data": {
            "text/plain": [
              "array([ 21.07961348,  20.57370276,  20.46830469, ...,  21.95441744,\n",
              "        22.9873185 ,  23.9253613 ])"
            ]
          },
          "metadata": {
            "tags": []
          },
          "execution_count": 15
        }
      ]
    },
    {
      "cell_type": "code",
      "metadata": {
        "id": "VrCBlthB6pNg",
        "colab_type": "code",
        "colab": {}
      },
      "source": [
        "#Guardar datos en CSV"
      ],
      "execution_count": null,
      "outputs": []
    },
    {
      "cell_type": "code",
      "metadata": {
        "id": "E5BXFeuu6pNj",
        "colab_type": "code",
        "colab": {}
      },
      "source": [
        "df = pd.DataFrame(reFactorizacion,columns = ['ABP', 'ECG', 'ICP'])"
      ],
      "execution_count": null,
      "outputs": []
    },
    {
      "cell_type": "code",
      "metadata": {
        "id": "gQ1ICTEO6pNn",
        "colab_type": "code",
        "colab": {}
      },
      "source": [
        "df.to_csv('charis.csv')"
      ],
      "execution_count": null,
      "outputs": []
    },
    {
      "cell_type": "code",
      "metadata": {
        "id": "F1_HJVzC6pNr",
        "colab_type": "code",
        "colab": {}
      },
      "source": [
        "# Demo 2 - Read certain channels and sections of the WFDB record using the simplified 'srdsamp' function\n",
        "# which returns a numpy array and a dictionary. Show the data.\n",
        "signals, fields=wfdb.srdsamp('sampledata/s0010_re', channels=[14, 0, 5, 10], sampfrom=100, sampto=15000)\n",
        "display(signals)\n",
        "display(fields)\n",
        "\n",
        "# Can also read the same files hosted on Physiobank \n",
        "signals2, fields2=wfdb.srdsamp('s0010_re', channels=[14, 0, 5, 10], sampfrom=100, sampto=15000, pbdir = 'ptbdb/patient001/')"
      ],
      "execution_count": null,
      "outputs": []
    },
    {
      "cell_type": "code",
      "metadata": {
        "id": "uM27l8hv6pNu",
        "colab_type": "code",
        "colab": {}
      },
      "source": [
        ""
      ],
      "execution_count": null,
      "outputs": []
    },
    {
      "cell_type": "code",
      "metadata": {
        "id": "EWOj2rLq6pNw",
        "colab_type": "code",
        "colab": {}
      },
      "source": [
        ""
      ],
      "execution_count": null,
      "outputs": []
    },
    {
      "cell_type": "code",
      "metadata": {
        "id": "q0Phiaq76pNz",
        "colab_type": "code",
        "colab": {}
      },
      "source": [
        "# Demo 3 - Read a WFDB header file only (without the signals)\n",
        "record = wfdb.rdheader('sampledata/drive02')\n",
        "display(record.__dict__)\n",
        "\n",
        "# Can also read the same file hosted on Physiobank\n",
        "record2 = wfdb.rdheader('drive02', pbdir = 'drivedb')"
      ],
      "execution_count": null,
      "outputs": []
    },
    {
      "cell_type": "code",
      "metadata": {
        "id": "ZXZj2NUF6pN1",
        "colab_type": "code",
        "colab": {}
      },
      "source": [
        "# Demo 4 - Read part of a WFDB annotation file into a wfdb.Annotation object, and plot the samples\n",
        "annotation = wfdb.rdann('sampledata/100', 'atr', sampfrom = 100000, sampto = 110000)\n",
        "annotation.fs = 360\n",
        "wfdb.plotann(annotation, timeunits = 'minutes')\n",
        "\n",
        "# Can also read the same file hosted on PhysioBank \n",
        "annotation2 = wfdb.rdann('100', 'atr', sampfrom = 100000, sampto = 110000, pbdir = 'mitdb')"
      ],
      "execution_count": null,
      "outputs": []
    },
    {
      "cell_type": "code",
      "metadata": {
        "id": "hz0M01mc6pN4",
        "colab_type": "code",
        "colab": {}
      },
      "source": [
        "# Demo 5 - Read a WFDB record and annotation. Plot all channels, and the annotation on top of channel 0.\n",
        "record = wfdb.rdsamp('sampledata/100', sampto = 15000)\n",
        "annotation = wfdb.rdann('sampledata/100', 'atr', sampto = 15000)\n",
        "\n",
        "wfdb.plotrec(record, annotation = annotation, title='Record 100 from MIT-BIH Arrhythmia Database', timeunits = 'seconds')"
      ],
      "execution_count": null,
      "outputs": []
    },
    {
      "cell_type": "markdown",
      "metadata": {
        "id": "8jpc1uYc6pN7",
        "colab_type": "text"
      },
      "source": [
        "### Multisegment waveform examples\n",
        "\n",
        "The following sections load and plots waveforms from the MIMIC matched waveform database. These waveforms have been matched to clinical data in the MIMIC Clinical database. The input records are multi-segment (made up of multiple individual WFDB records) and relatively long.\n",
        "\n",
        "Note that these kinds of records contain segments in which certain channels are missing. <strong>matplotlib</strong> automatically zooms in on sections without Nans in individual channels but the entire durations of the signals input into <strong>plotrec</strong> are actually plotted. \n",
        "\n"
      ]
    },
    {
      "cell_type": "code",
      "metadata": {
        "collapsed": true,
        "id": "7shdaoKH6pN8",
        "colab_type": "code",
        "colab": {}
      },
      "source": [
        "# Demo 6 - Read the multi-segment record and plot waveforms from the MIMIC matched waveform database. \n",
        "import wfdb\n",
        "from IPython.display import display\n",
        "record=wfdb.rdsamp('sampledata/multisegment/s25047/s25047-2704-05-04-10-44')\n",
        "wfdb.plotrec(record, title='Record s25047-2704-05-04-10-44') \n",
        "display(record.__dict__)\n",
        "\n",
        "# Can also read the same files hosted on PhysioBank (takes long to stream the many large files)\n",
        "#record2 = wfdb.rdsamp('s25047-2704-05-04-10-44', pbdir = 'mimic2wdb/matched/s25047')"
      ],
      "execution_count": null,
      "outputs": []
    },
    {
      "cell_type": "code",
      "metadata": {
        "collapsed": true,
        "id": "OZNwCEd26pN_",
        "colab_type": "code",
        "colab": {}
      },
      "source": [
        "# Demo 7 - Read the multi-segment record and plot waveforms from the MIMIC matched waveform database.\n",
        "# Notice that some channels have no valid values to plot\n",
        "record = wfdb.rdsamp('sampledata/multisegment/s00001/s00001-2896-10-10-00-31', sampfrom = 3000000, sampto = 4000000)\n",
        "wfdb.plotrec(record, title='Record s00001/s00001-2896-10-10-00-31') \n",
        "display(record.__dict__)\n",
        "\n",
        "# Can also read the same files hosted on PhysioBank\n",
        "record2 = wfdb.rdsamp('s00001-2896-10-10-00-31', sampfrom = 3000000, sampto = 4000000, pbdir = 'mimic2wdb/matched/s00001')"
      ],
      "execution_count": null,
      "outputs": []
    },
    {
      "cell_type": "markdown",
      "metadata": {
        "id": "d5hxxUqe6pOB",
        "colab_type": "text"
      },
      "source": [
        "### Multiple sample/frame examples\n",
        "\n",
        "Although there can only be one base sampling frequency per record, a single wfdb record can store multiple channels with different sampling frequencies, as long as their sampling frequencies can all be expressed by an integer multiple of a base value. This is done by using the `sampsperframe` attribute in each channel, which indicates the number of samples of each channel present in each frame.\n",
        "\n",
        "ie: To capture three signals with `fs = 120, 240, and 360 Hz` in a single record, they can be combined into a record with `fs = 120` and `sampsperframe = [1, 2, 3]`.\n",
        "\n",
        "#### Reading Options\n",
        "\n",
        "This package allows signals in records with multiple samples/frame to be read in two ways:\n",
        "1. smoothed - An uniform mxn numpy is returned as the d_signals or p_signals field. Channels with multiple samples/frame have their values averaged within each frame. This is like the behaviour of the `rdsamp` function of the original WFDB c package. Note that `wfdb.plotrec` only works if the record object has the `p_signals` field.\n",
        "2. expanded - A list of 1d numpy arrays is returned as the e_d_signals or e_p_signals field. All samples for each channel are returned in its respective numpy array. The arrays may have different lengths depending on their `sampsperframe` values. \n",
        "\n",
        "Set the `smoothframes` *(default=True)* option in `rdsamp` to return the desired signal type."
      ]
    },
    {
      "cell_type": "code",
      "metadata": {
        "collapsed": true,
        "id": "qtT9_oF46pOB",
        "colab_type": "code",
        "colab": {}
      },
      "source": [
        "# Demo 8 - Read a wfdb record in which one channel has multiple samples/frame. Return a smoothed uniform array.\n",
        "record = wfdb.rdsamp('sampledata/test01_00s_frame')\n",
        "wfdb.plotrec(record)"
      ],
      "execution_count": null,
      "outputs": []
    },
    {
      "cell_type": "code",
      "metadata": {
        "collapsed": true,
        "id": "4dCpV0hC6pOE",
        "colab_type": "code",
        "colab": {}
      },
      "source": [
        "# Demo 9 - Read a wfdb record in which one channel has multiple samples/frame. Return a list of all the expanded samples.\n",
        "record = wfdb.rdsamp('sampledata/test01_00s_frame', smoothframes = False)\n",
        "\n",
        "display(record.e_p_signals)\n",
        "# Show that different channels have different lengths. Channel 1 has 2 samples/frame, hence has 2x as many samples.\n",
        "print([len(s) for s in record.e_p_signals])\n",
        "\n",
        "# wfdb.plotrec doesn't work because the Record object is missing its p_signals field."
      ],
      "execution_count": null,
      "outputs": []
    },
    {
      "cell_type": "markdown",
      "metadata": {
        "id": "YPGNFtC26pOG",
        "colab_type": "text"
      },
      "source": [
        "## Writing Records and Annotations"
      ]
    },
    {
      "cell_type": "code",
      "metadata": {
        "collapsed": true,
        "id": "9p-9XZVy6pOH",
        "colab_type": "code",
        "colab": {}
      },
      "source": [
        "# Demo 10 - Read a WFDB record's digital samples and create a copy via the wrsamp() instance method \n",
        "# of the Record object.\n",
        "\n",
        "# Read a record as a Record object.\n",
        "record = wfdb.rdsamp('sampledata/100', physical = False)\n",
        "record.recordname = '100x'\n",
        "\n",
        "# Call the instance method of the object\n",
        "record.wrsamp()\n",
        "\n",
        "# The new file can be read\n",
        "recordx = wfdb.rdsamp('100x')"
      ],
      "execution_count": null,
      "outputs": []
    },
    {
      "cell_type": "code",
      "metadata": {
        "collapsed": true,
        "id": "7e9kW9W46pOK",
        "colab_type": "code",
        "colab": {}
      },
      "source": [
        "# Demo 11 - Write a WFDB record without using a Record object via the gateway wrsamp function.\n",
        "# This is the basic way to write physical signals to a WFDB file. \n",
        "\n",
        "# Read part of a record from Physiobank\n",
        "sig, fields = wfdb.srdsamp('a103l', sampfrom = 50000, channels = [0,1], pbdir = 'challenge/2015/training')\n",
        "\n",
        "# Call the gateway wrsamp function, manually inserting fields as function input parameters\n",
        "wfdb.wrsamp('ecgrecord', fs = 250, units = ['mV', 'mV'], signames = ['I', 'II'], p_signals = sig, fmt = ['16', '16'])\n",
        "\n",
        "# The new file can be read\n",
        "recordecg = wfdb.rdsamp('ecgrecord')"
      ],
      "execution_count": null,
      "outputs": []
    },
    {
      "cell_type": "code",
      "metadata": {
        "collapsed": true,
        "id": "do9BPUom6pOM",
        "colab_type": "code",
        "colab": {}
      },
      "source": [
        "# Demo 12 - Write a WFDB record with multiple samples/frame in a channel\n",
        "\n",
        "# Read a record as a Record object.\n",
        "record = wfdb.rdsamp('sampledata/test01_00s_frame', physical = False, smoothframes=False)\n",
        "record.recordname = 'test01_00s_framex'\n",
        "\n",
        "# Call the instance method of the object with expanded=True to write the record using the e_d_signals field\n",
        "record.wrsamp(expanded=True)\n",
        "\n",
        "# The new file can be read\n",
        "recordx = wfdb.rdsamp('test01_00s_framex')"
      ],
      "execution_count": null,
      "outputs": []
    },
    {
      "cell_type": "code",
      "metadata": {
        "collapsed": true,
        "id": "xTSLAUct6pOO",
        "colab_type": "code",
        "colab": {}
      },
      "source": [
        "# Demo 13 - Read a WFDB annotation file and create a copy via the wrann() instance method\n",
        "# of the Annotation object\n",
        "\n",
        "# Read an annotation from Physiobank\n",
        "annotation = wfdb.rdann('sampledata/100', 'atr')\n",
        "annotation.annotator = 'cpy'\n",
        "\n",
        "# Call the instance method of the object\n",
        "annotation.wrann()\n",
        "\n",
        "# The new file can be read\n",
        "ann100copy = wfdb.rdann('100', 'cpy')"
      ],
      "execution_count": null,
      "outputs": []
    },
    {
      "cell_type": "code",
      "metadata": {
        "collapsed": true,
        "id": "_Mnl97_X6pOR",
        "colab_type": "code",
        "colab": {}
      },
      "source": [
        "# Demo 14 - Write a WFDB annotation file without using an Annotator object via the gateway wrann function.\n",
        "\n",
        "# Read an annotation as an Annotation object\n",
        "annotation = wfdb.rdann('b001', 'atr', pbdir='cebsdb')\n",
        "\n",
        "# Call the gateway wrann function, manually inserting fields as function input parameters\n",
        "wfdb.wrann('b001', 'cpy', annotation.annsamp, annotation.anntype)\n",
        "\n",
        "# The new file can be read\n",
        "annbcopy = wfdb.rdann('b001', 'cpy')"
      ],
      "execution_count": null,
      "outputs": []
    },
    {
      "cell_type": "code",
      "metadata": {
        "collapsed": true,
        "id": "hJASAcqE6pOT",
        "colab_type": "code",
        "colab": {}
      },
      "source": [
        "# Demo 15 - View what the 'anntype' symbols mean in the standard WFDB library\n",
        "wfdb.showanncodes()"
      ],
      "execution_count": null,
      "outputs": []
    },
    {
      "cell_type": "markdown",
      "metadata": {
        "id": "g0G50Hio6pOW",
        "colab_type": "text"
      },
      "source": [
        "## Downloading Content from Physiobank\n",
        "\n",
        "- The downloads are made via http\n",
        "- See the above demos for examples on streaming WFDB files stored in Physiobank without downloading them to local disk\n",
        "- Physionet has rsync modules for downloading entire databases for users who have access to rsync.  "
      ]
    },
    {
      "cell_type": "code",
      "metadata": {
        "id": "nzdCg86x6pOW",
        "colab_type": "code",
        "colab": {},
        "outputId": "1ab62fbd-e9c6-47a2-8c67-efd962c1e425"
      },
      "source": [
        "# Demo 16 - List the Physiobank Databases\n",
        "\n",
        "dbs = wfdb.getdblist()\n",
        "display(dbs)"
      ],
      "execution_count": null,
      "outputs": [
        {
          "output_type": "display_data",
          "data": {
            "text/plain": [
              "[[u'adfecgdb', u'Abdominal and Direct Fetal ECG Database'],\n",
              " [u'aftdb', u'AF Termination Challenge Database'],\n",
              " [u'aami-ec13', u'ANSI/AAMI EC13 Test Waveforms'],\n",
              " [u'ahadb', u'AHA Database [sample excluded record]'],\n",
              " [u'apnea-ecg', u'Apnea-ECG Database'],\n",
              " [u'chfdb', u'BIDMC Congestive Heart Failure Database'],\n",
              " [u'bpssrat', u'Blood Pressure in Salt-Sensitive Dahl Rats'],\n",
              " [u'capslpdb', u'CAP Sleep Database'],\n",
              " [u'challenge/2009/test-set-a', u'Challenge 2009 Test Set A'],\n",
              " [u'challenge/2009/test-set-b', u'Challenge 2009 Test Set B'],\n",
              " [u'challenge/2010/set-a', u'Challenge 2010 Training Set A'],\n",
              " [u'challenge/2010/set-b', u'Challenge 2010 Test Set B'],\n",
              " [u'challenge/2010/set-c', u'Challenge 2010 Test Set C'],\n",
              " [u'challenge/2011/sim', u'Challenge 2011 Pilot Set'],\n",
              " [u'challenge/2011/set-a', u'Challenge 2011 Training Set A'],\n",
              " [u'challenge/2011/set-b', u'Challenge 2011 Test Set B'],\n",
              " [u'challenge/2013/set-a', u'Challenge 2013 Training Set A'],\n",
              " [u'challenge/2013/set-b', u'Challenge 2013 Test Set B'],\n",
              " [u'challenge/2014/set-p', u'Challenge 2014 Training Set'],\n",
              " [u'challenge/2014/set-p2', u'Challenge 2014 Extended Training Set'],\n",
              " [u'challenge/2015/training', u'Challenge 2015 Training Set'],\n",
              " [u'challenge/2016/training-a', u'Challenge 2016 Training Set A'],\n",
              " [u'challenge/2016/training-b', u'Challenge 2016 Training Set B'],\n",
              " [u'challenge/2016/training-c', u'Challenge 2016 Training Set C'],\n",
              " [u'challenge/2016/training-d', u'Challenge 2016 Training Set D'],\n",
              " [u'challenge/2016/training-e', u'Challenge 2016 Training Set E'],\n",
              " [u'challenge/2016/training-f', u'Challenge 2016 Training Set F'],\n",
              " [u'challenge/2017/training', u'Challenge 2017 Training Set'],\n",
              " [u'chbmit', u'CHB-MIT Scalp EEG Database'],\n",
              " [u'charisdb', u'CHARIS database'],\n",
              " [u'cebsdb', u'Combined measurement of ECG, Breathing and Seismocardiograms'],\n",
              " [u'chf2db', u'Congestive Heart Failure RR Interval Database'],\n",
              " [u'crisdb', u'CAST RR Interval Sub-Study Database'],\n",
              " [u'ctu-uhb-ctgdb', u'CTU-CHB Intrapartum Cardiotocography Database'],\n",
              " [u'cudb', u'CU Ventricular Tachyarrhythmia Database'],\n",
              " [u'ecgdmmld',\n",
              "  u'ECG Effects of Dofetilide, Moxifloxacin, Dofetilide+Mexiletine, Dofetilide+Lidocaine and Moxifloxacin+Diltiazem'],\n",
              " [u'ecgrdvq',\n",
              "  u'ECG Effects of Ranolazine, Dofetilide, Verapamil, and Quinidine'],\n",
              " [u'ecgiddb', u'ECG-ID Database'],\n",
              " [u'eegmmidb', u'EEG Motor Movement/Imagery Dataset'],\n",
              " [u'erpbci', u'ERP-based Brain-Computer Interface recordings'],\n",
              " [u'edb', u'European ST-T Database'],\n",
              " [u'earh', u'Evoked Auditory Responses in Heading Impaired'],\n",
              " [u'earndb', u'Evoked Auditory Responses in Normals'],\n",
              " [u'emgdb', u'Examples of Electromyograms'],\n",
              " [u'fantasia', u'Fantasia Database'],\n",
              " [u'fecgsyndb', u'Fetal ECG Synthetic Database'],\n",
              " [u'fpcgdb', u'Fetal PCG Database'],\n",
              " [u'gaitdb', u'Gait in Aging and Disease Database'],\n",
              " [u'gaitndd', u'Gait in Neurodegenerative Disease Database'],\n",
              " [u'gait-maturation-db/data', u'Gait Maturation Database'],\n",
              " [u'meditation/data', u'Heart Rate Oscillations during Meditation'],\n",
              " [u'hbedb', u'Human Balance Evaluation Database'],\n",
              " [u'ehgdb', u'Icelandic 16-electrode Electrohysterogram Database'],\n",
              " [u'iafdb', u'Intracardiac Atrial Fibrillation Database'],\n",
              " [u'ltafdb', u'Long Term AF Database'],\n",
              " [u'ltrsvp', u'EEG Signals from an RSVP Task'],\n",
              " [u'ltstdb', u'Long Term ST Database'],\n",
              " [u'mssvepdb', u'MAMEM SSVEP Database'],\n",
              " [u'mghdb', u'MGH/MF Waveform Database'],\n",
              " [u'mimicdb', u'MIMIC Database'],\n",
              " [u'mimicdb/numerics', u'MIMIC Database Numerics'],\n",
              " [u'mimic2cdb', u'MIMIC II Clinical Database Public Subset'],\n",
              " [u'mimic2wdb/30', u'MIMIC II Waveform Database, version 3 part 0'],\n",
              " [u'mimic2wdb/31', u'MIMIC II Waveform Database, version 3 part 1'],\n",
              " [u'mimic2wdb/32', u'MIMIC II Waveform Database, version 3 part 2'],\n",
              " [u'mimic2wdb/33', u'MIMIC II Waveform Database, version 3 part 3'],\n",
              " [u'mimic2wdb/34', u'MIMIC II Waveform Database, version 3 part 4'],\n",
              " [u'mimic2wdb/35', u'MIMIC II Waveform Database, version 3 part 5'],\n",
              " [u'mimic2wdb/36', u'MIMIC II Waveform Database, version 3 part 6'],\n",
              " [u'mimic2wdb/37', u'MIMIC II Waveform Database, version 3 part 7'],\n",
              " [u'mimic2wdb/38', u'MIMIC II Waveform Database, version 3 part 8'],\n",
              " [u'mimic2wdb/39', u'MIMIC II Waveform Database, version 3 part 9'],\n",
              " [u'mimic2wdb/matched', u'MIMIC II Waveform Database Matched Subset'],\n",
              " [u'mitdb', u'MIT-BIH Arrhythmia Database'],\n",
              " [u'afdb', u'MIT-BIH Atrial Fibrillation Database'],\n",
              " [u'cdb', u'MIT-BIH ECG Compression Test Database'],\n",
              " [u'ltdb', u'MIT-BIH Long-Term ECG Database'],\n",
              " [u'vfdb', u'MIT-BIH Malignant Ventricular Ectopy Database'],\n",
              " [u'nstdb', u'MIT-BIH Noise Stress Test Database'],\n",
              " [u'nsrdb', u'MIT-BIH Normal Sinus Rhythm Database'],\n",
              " [u'excluded', u'... [Recordings excluded from the NSR DB]'],\n",
              " [u'slpdb', u'MIT-BIH Polysomnographic Database'],\n",
              " [u'stdb', u'MIT-BIH ST Change Database'],\n",
              " [u'svdb', u'MIT-BIH Supraventricular Arrhythmia Database'],\n",
              " [u'mmgdb', u'MMG Database'],\n",
              " [u'macecgdb', u'Motion Artifact Contaminated ECG Database'],\n",
              " [u'motion-artifact', u'Motion Artifact Contaminated fNIRS and EEG Data'],\n",
              " [u'nqmitcsxpd', u'neuroQWERTY MIT-CSXPD Dataset'],\n",
              " [u'nifecgdb', u'Non-Invasive Fetal ECG Database'],\n",
              " [u'nsr2db', u'Normal Sinus Rhythm RR Interval Database'],\n",
              " [u'ob1db', u'OB-1 Fetal ECG Database [sample record]'],\n",
              " [u'afpdb', u'PAF Prediction Challenge Database'],\n",
              " [u'picsdb', u'Preterm Infant Cardio-Respiratory Signals Database'],\n",
              " [u'prcp', u'Physiologic Response to Changes in Posture'],\n",
              " [u'szdb', u'Post-Ictal Heart Rate Oscillations in Partial Epilepsy'],\n",
              " [u'ptbdb', u'PTB Diagnostic ECG Database'],\n",
              " [u'qtdb', u'QT Database'],\n",
              " [u'simfpcgdb', u'Simulated Fetal Phonocardiograms'],\n",
              " [u'shareedb',\n",
              "  u'Smart Health for Assessing the Risk of Events via ECG Database'],\n",
              " [u'sgamp', u'Squid Giant Axon Membrane Potential'],\n",
              " [u'shhpsgdb', u'Sleep Heart Health Study PSG Database [sample record]'],\n",
              " [u'sleep-edfx', u'Sleep-EDF Database [Expanded]'],\n",
              " [u'mvtdb/data', u'Spontaneous Ventricular Tachyarrhythmia Database'],\n",
              " [u'incartdb', u'St Petersburg INCART 12-lead Arrhythmia Database'],\n",
              " [u'staffiii', u'STAFF III Database'],\n",
              " [u'drivedb', u'Stress Recognition in Automobile Drivers'],\n",
              " [u'sddb', u'Sudden Cardiac Death Holter Database'],\n",
              " [u'taichidb', u'Tai Chi, Physiological Complexity, and Healthy Aging - Gait'],\n",
              " [u'twadb', u'T-Wave Alternans Challenge Database'],\n",
              " [u'tpehgdb', u'Term-Preterm EHG Database'],\n",
              " [u'ucddb', u'UCD Sleep Apnea Database'],\n",
              " [u'mimic2db', u'MIMIC II Waveform DB, v2 [deprecated, use v3]'],\n",
              " [u'mimic2db/numerics',\n",
              "  u'MIMIC II Waveform DB, v2 Numerics [deprecated, use v3]'],\n",
              " [u'sleep-edf', u'Sleep-EDF Database, v1 [deprecated, use sleep-edfx]']]"
            ]
          },
          "metadata": {
            "tags": []
          }
        }
      ]
    },
    {
      "cell_type": "code",
      "metadata": {
        "id": "CFAQxF8_6pOZ",
        "colab_type": "code",
        "colab": {},
        "outputId": "54e2a627-185d-4db5-ed0a-805ded47c580"
      },
      "source": [
        "# Demo 17 - Download all the WFDB records and annotations from a small Physiobank Database\n",
        "\n",
        "# Make a temporary download directory in your current working directory\n",
        "cwd = os.getcwd()\n",
        "dldir = os.path.join(cwd, 'tmp_dl_dir')\n",
        "# Make sure to use a new directory\n",
        "while os.path.exists(dldir):\n",
        "    dldir = dldir+'1'\n",
        "\n",
        "# Download all the WFDB content\n",
        "wfdb.dldatabase('ahadb', dlbasedir = dldir)\n",
        "\n",
        "# Display the downloaded content in the folder\n",
        "display(os.listdir(dldir))"
      ],
      "execution_count": null,
      "outputs": [
        {
          "output_type": "error",
          "ename": "HTTPError",
          "evalue": "404 Client Error: Not Found for url: http://physionet.org/physiobank/database/lerolero",
          "traceback": [
            "\u001b[0;31m---------------------------------------------------------------------------\u001b[0m",
            "\u001b[0;31mHTTPError\u001b[0m                                 Traceback (most recent call last)",
            "\u001b[0;32m<ipython-input-36-c99390ad8dec>\u001b[0m in \u001b[0;36m<module>\u001b[0;34m()\u001b[0m\n\u001b[1;32m      9\u001b[0m \u001b[0;34m\u001b[0m\u001b[0m\n\u001b[1;32m     10\u001b[0m \u001b[0;31m# Download all the WFDB content\u001b[0m\u001b[0;34m\u001b[0m\u001b[0;34m\u001b[0m\u001b[0m\n\u001b[0;32m---> 11\u001b[0;31m \u001b[0mwfdb\u001b[0m\u001b[0;34m.\u001b[0m\u001b[0mdldatabase\u001b[0m\u001b[0;34m(\u001b[0m\u001b[0;34m'lerolero'\u001b[0m\u001b[0;34m,\u001b[0m \u001b[0mdlbasedir\u001b[0m \u001b[0;34m=\u001b[0m \u001b[0mdldir\u001b[0m\u001b[0;34m)\u001b[0m\u001b[0;34m\u001b[0m\u001b[0m\n\u001b[0m\u001b[1;32m     12\u001b[0m \u001b[0;34m\u001b[0m\u001b[0m\n\u001b[1;32m     13\u001b[0m \u001b[0;31m# Display the downloaded content in the folder\u001b[0m\u001b[0;34m\u001b[0m\u001b[0;34m\u001b[0m\u001b[0m\n",
            "\u001b[0;32m/home/pic/Escritorio/wfdb-python-master/wfdb/readwrite/records.pyc\u001b[0m in \u001b[0;36mdldatabase\u001b[0;34m(pbdb, dlbasedir, records, annotators, keepsubdirs, overwrite)\u001b[0m\n\u001b[1;32m   1245\u001b[0m     \u001b[0;31m# Check if the database is valid\u001b[0m\u001b[0;34m\u001b[0m\u001b[0;34m\u001b[0m\u001b[0m\n\u001b[1;32m   1246\u001b[0m     \u001b[0mr\u001b[0m \u001b[0;34m=\u001b[0m \u001b[0mrequests\u001b[0m\u001b[0;34m.\u001b[0m\u001b[0mget\u001b[0m\u001b[0;34m(\u001b[0m\u001b[0mdburl\u001b[0m\u001b[0;34m)\u001b[0m\u001b[0;34m\u001b[0m\u001b[0m\n\u001b[0;32m-> 1247\u001b[0;31m     \u001b[0mr\u001b[0m\u001b[0;34m.\u001b[0m\u001b[0mraise_for_status\u001b[0m\u001b[0;34m(\u001b[0m\u001b[0;34m)\u001b[0m\u001b[0;34m\u001b[0m\u001b[0m\n\u001b[0m\u001b[1;32m   1248\u001b[0m \u001b[0;34m\u001b[0m\u001b[0m\n\u001b[1;32m   1249\u001b[0m \u001b[0;34m\u001b[0m\u001b[0m\n",
            "\u001b[0;32m/home/pic/anaconda2/lib/python2.7/site-packages/requests/models.pyc\u001b[0m in \u001b[0;36mraise_for_status\u001b[0;34m(self)\u001b[0m\n\u001b[1;32m    926\u001b[0m \u001b[0;34m\u001b[0m\u001b[0m\n\u001b[1;32m    927\u001b[0m         \u001b[0;32mif\u001b[0m \u001b[0mhttp_error_msg\u001b[0m\u001b[0;34m:\u001b[0m\u001b[0;34m\u001b[0m\u001b[0m\n\u001b[0;32m--> 928\u001b[0;31m             \u001b[0;32mraise\u001b[0m \u001b[0mHTTPError\u001b[0m\u001b[0;34m(\u001b[0m\u001b[0mhttp_error_msg\u001b[0m\u001b[0;34m,\u001b[0m \u001b[0mresponse\u001b[0m\u001b[0;34m=\u001b[0m\u001b[0mself\u001b[0m\u001b[0;34m)\u001b[0m\u001b[0;34m\u001b[0m\u001b[0m\n\u001b[0m\u001b[1;32m    929\u001b[0m \u001b[0;34m\u001b[0m\u001b[0m\n\u001b[1;32m    930\u001b[0m     \u001b[0;32mdef\u001b[0m \u001b[0mclose\u001b[0m\u001b[0;34m(\u001b[0m\u001b[0mself\u001b[0m\u001b[0;34m)\u001b[0m\u001b[0;34m:\u001b[0m\u001b[0;34m\u001b[0m\u001b[0m\n",
            "\u001b[0;31mHTTPError\u001b[0m: 404 Client Error: Not Found for url: http://physionet.org/physiobank/database/lerolero"
          ]
        }
      ]
    },
    {
      "cell_type": "code",
      "metadata": {
        "id": "t_3bvok36pOb",
        "colab_type": "code",
        "colab": {},
        "outputId": "921f9ff0-c338-448b-8fbc-712743974d21"
      },
      "source": [
        "# Demo 18 - Download specified files from a Physiobank database\n",
        "\n",
        "# The files to download\n",
        "filelist = ['STAFF-Studies-bibliography-2016.pdf', 'data/001a.hea', 'data/001a.dat', 'data/001b.hea', 'data/001b.dat']\n",
        "\n",
        "# Make a temporary download directory in your current working directory\n",
        "cwd = os.getcwd()\n",
        "dldir = os.path.join(cwd, 'tmp_dl_dir')\n",
        "# Make sure to use a new directory\n",
        "while os.path.exists(dldir):\n",
        "    dldir = dldir+'1'\n",
        "\n",
        "# Download the listed files\n",
        "wfdb.dldatabasefiles('staffiii', dldir, filelist)\n",
        "\n",
        "# Display the downloaded content in the folder\n",
        "display(os.listdir(dldir))\n",
        "display(os.listdir(os.path.join(dldir, 'data')))"
      ],
      "execution_count": null,
      "outputs": [
        {
          "output_type": "stream",
          "text": [
            "('Created local base download directory: ', '/home/pic/Escritorio/wfdb-python-master/tmp_dl_dir')\n",
            "Downloading files...\n",
            "Finished downloading files\n"
          ],
          "name": "stdout"
        },
        {
          "output_type": "display_data",
          "data": {
            "text/plain": [
              "['data', 'STAFF-Studies-bibliography-2016.pdf']"
            ]
          },
          "metadata": {
            "tags": []
          }
        },
        {
          "output_type": "display_data",
          "data": {
            "text/plain": [
              "['001b.hea', '001a.dat', '001b.dat', '001a.hea']"
            ]
          },
          "metadata": {
            "tags": []
          }
        },
        {
          "output_type": "stream",
          "text": [
            "Process PoolWorker-1:\n",
            "KeyboardInterrupt\n",
            "Process PoolWorker-2:\n",
            "Traceback (most recent call last):\n",
            "Traceback (most recent call last):\n",
            "  File \"/home/pic/anaconda2/lib/python2.7/multiprocessing/process.py\", line 258, in _bootstrap\n",
            "  File \"/home/pic/anaconda2/lib/python2.7/multiprocessing/process.py\", line 258, in _bootstrap\n",
            "    self.run()\n",
            "  File \"/home/pic/anaconda2/lib/python2.7/multiprocessing/process.py\", line 114, in run\n",
            "    self.run()\n",
            "    self._target(*self._args, **self._kwargs)\n",
            "  File \"/home/pic/anaconda2/lib/python2.7/multiprocessing/process.py\", line 114, in run\n",
            "  File \"/home/pic/anaconda2/lib/python2.7/multiprocessing/pool.py\", line 102, in worker\n",
            "    self._target(*self._args, **self._kwargs)\n",
            "  File \"/home/pic/anaconda2/lib/python2.7/multiprocessing/pool.py\", line 102, in worker\n",
            "    task = get()\n",
            "    task = get()\n",
            "  File \"/home/pic/anaconda2/lib/python2.7/multiprocessing/queues.py\", line 376, in get\n",
            "    racquire()\n",
            "  File \"/home/pic/anaconda2/lib/python2.7/multiprocessing/queues.py\", line 378, in get\n",
            "    return recv()\n",
            "KeyboardInterrupt\n"
          ],
          "name": "stderr"
        }
      ]
    },
    {
      "cell_type": "code",
      "metadata": {
        "collapsed": true,
        "id": "MNXYXEs16pOd",
        "colab_type": "code",
        "colab": {}
      },
      "source": [
        ""
      ],
      "execution_count": null,
      "outputs": []
    }
  ]
}